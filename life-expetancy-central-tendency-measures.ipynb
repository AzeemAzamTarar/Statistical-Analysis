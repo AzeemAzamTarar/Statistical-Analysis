{
 "cells": [
  {
   "cell_type": "code",
   "execution_count": 1,
   "id": "15209b14",
   "metadata": {
    "_cell_guid": "b1076dfc-b9ad-4769-8c92-a6c4dae69d19",
    "_uuid": "8f2839f25d086af736a60e9eeb907d3b93b6e0e5",
    "execution": {
     "iopub.execute_input": "2025-03-01T11:45:11.442619Z",
     "iopub.status.busy": "2025-03-01T11:45:11.441597Z",
     "iopub.status.idle": "2025-03-01T11:45:12.355060Z",
     "shell.execute_reply": "2025-03-01T11:45:12.353798Z"
    },
    "papermill": {
     "duration": 0.924985,
     "end_time": "2025-03-01T11:45:12.357315",
     "exception": false,
     "start_time": "2025-03-01T11:45:11.432330",
     "status": "completed"
    },
    "tags": []
   },
   "outputs": [
    {
     "name": "stdout",
     "output_type": "stream",
     "text": [
      "/kaggle/input/life-expectancy-who/Life Expectancy Data.csv\n"
     ]
    }
   ],
   "source": [
    "# This Python 3 environment comes with many helpful analytics libraries installed\n",
    "# It is defined by the kaggle/python Docker image: https://github.com/kaggle/docker-python\n",
    "# For example, here's several helpful packages to load\n",
    "\n",
    "import numpy as np # linear algebra\n",
    "import pandas as pd # data processing, CSV file I/O (e.g. pd.read_csv)\n",
    "\n",
    "# Input data files are available in the read-only \"../input/\" directory\n",
    "# For example, running this (by clicking run or pressing Shift+Enter) will list all files under the input directory\n",
    "\n",
    "import os\n",
    "for dirname, _, filenames in os.walk('/kaggle/input'):\n",
    "    for filename in filenames:\n",
    "        print(os.path.join(dirname, filename))\n",
    "\n",
    "# You can write up to 20GB to the current directory (/kaggle/working/) that gets preserved as output when you create a version using \"Save & Run All\" \n",
    "# You can also write temporary files to /kaggle/temp/, but they won't be saved outside of the current session"
   ]
  },
  {
   "cell_type": "markdown",
   "id": "8840f3b9",
   "metadata": {
    "papermill": {
     "duration": 0.005963,
     "end_time": "2025-03-01T11:45:12.369849",
     "exception": false,
     "start_time": "2025-03-01T11:45:12.363886",
     "status": "completed"
    },
    "tags": []
   },
   "source": [
    "# Import Important Libararies"
   ]
  },
  {
   "cell_type": "code",
   "execution_count": 2,
   "id": "272a8bff",
   "metadata": {
    "execution": {
     "iopub.execute_input": "2025-03-01T11:45:12.385678Z",
     "iopub.status.busy": "2025-03-01T11:45:12.384716Z",
     "iopub.status.idle": "2025-03-01T11:45:12.389357Z",
     "shell.execute_reply": "2025-03-01T11:45:12.388443Z"
    },
    "papermill": {
     "duration": 0.014222,
     "end_time": "2025-03-01T11:45:12.391522",
     "exception": false,
     "start_time": "2025-03-01T11:45:12.377300",
     "status": "completed"
    },
    "tags": []
   },
   "outputs": [],
   "source": [
    "import numpy as np \n",
    "import pandas as pd"
   ]
  },
  {
   "cell_type": "code",
   "execution_count": 3,
   "id": "79c8b3f5",
   "metadata": {
    "execution": {
     "iopub.execute_input": "2025-03-01T11:45:12.406759Z",
     "iopub.status.busy": "2025-03-01T11:45:12.406365Z",
     "iopub.status.idle": "2025-03-01T11:45:13.507756Z",
     "shell.execute_reply": "2025-03-01T11:45:13.506667Z"
    },
    "papermill": {
     "duration": 1.112502,
     "end_time": "2025-03-01T11:45:13.510619",
     "exception": false,
     "start_time": "2025-03-01T11:45:12.398117",
     "status": "completed"
    },
    "tags": []
   },
   "outputs": [],
   "source": [
    "from collections import Counter\n",
    "from scipy.stats import kurtosis"
   ]
  },
  {
   "cell_type": "code",
   "execution_count": 4,
   "id": "4a1df23b",
   "metadata": {
    "execution": {
     "iopub.execute_input": "2025-03-01T11:45:13.526788Z",
     "iopub.status.busy": "2025-03-01T11:45:13.525812Z",
     "iopub.status.idle": "2025-03-01T11:45:13.530781Z",
     "shell.execute_reply": "2025-03-01T11:45:13.529818Z"
    },
    "papermill": {
     "duration": 0.015094,
     "end_time": "2025-03-01T11:45:13.532707",
     "exception": false,
     "start_time": "2025-03-01T11:45:13.517613",
     "status": "completed"
    },
    "tags": []
   },
   "outputs": [],
   "source": [
    "pd.options.display.float_format = '{:.3f}'.format"
   ]
  },
  {
   "cell_type": "code",
   "execution_count": 5,
   "id": "256b71a0",
   "metadata": {
    "execution": {
     "iopub.execute_input": "2025-03-01T11:45:13.546868Z",
     "iopub.status.busy": "2025-03-01T11:45:13.546473Z",
     "iopub.status.idle": "2025-03-01T11:45:13.576730Z",
     "shell.execute_reply": "2025-03-01T11:45:13.575608Z"
    },
    "papermill": {
     "duration": 0.040079,
     "end_time": "2025-03-01T11:45:13.579167",
     "exception": false,
     "start_time": "2025-03-01T11:45:13.539088",
     "status": "completed"
    },
    "tags": []
   },
   "outputs": [],
   "source": [
    "df = pd.read_csv(\"/kaggle/input/life-expectancy-who/Life Expectancy Data.csv\")"
   ]
  },
  {
   "cell_type": "code",
   "execution_count": 6,
   "id": "c01de7f5",
   "metadata": {
    "execution": {
     "iopub.execute_input": "2025-03-01T11:45:13.593489Z",
     "iopub.status.busy": "2025-03-01T11:45:13.593078Z",
     "iopub.status.idle": "2025-03-01T11:45:13.627994Z",
     "shell.execute_reply": "2025-03-01T11:45:13.627000Z"
    },
    "papermill": {
     "duration": 0.044685,
     "end_time": "2025-03-01T11:45:13.630185",
     "exception": false,
     "start_time": "2025-03-01T11:45:13.585500",
     "status": "completed"
    },
    "tags": []
   },
   "outputs": [
    {
     "data": {
      "text/html": [
       "<div>\n",
       "<style scoped>\n",
       "    .dataframe tbody tr th:only-of-type {\n",
       "        vertical-align: middle;\n",
       "    }\n",
       "\n",
       "    .dataframe tbody tr th {\n",
       "        vertical-align: top;\n",
       "    }\n",
       "\n",
       "    .dataframe thead th {\n",
       "        text-align: right;\n",
       "    }\n",
       "</style>\n",
       "<table border=\"1\" class=\"dataframe\">\n",
       "  <thead>\n",
       "    <tr style=\"text-align: right;\">\n",
       "      <th></th>\n",
       "      <th>Country</th>\n",
       "      <th>Year</th>\n",
       "      <th>Status</th>\n",
       "      <th>Life expectancy</th>\n",
       "      <th>Adult Mortality</th>\n",
       "      <th>infant deaths</th>\n",
       "      <th>Alcohol</th>\n",
       "      <th>percentage expenditure</th>\n",
       "      <th>Hepatitis B</th>\n",
       "      <th>Measles</th>\n",
       "      <th>...</th>\n",
       "      <th>Polio</th>\n",
       "      <th>Total expenditure</th>\n",
       "      <th>Diphtheria</th>\n",
       "      <th>HIV/AIDS</th>\n",
       "      <th>GDP</th>\n",
       "      <th>Population</th>\n",
       "      <th>thinness  1-19 years</th>\n",
       "      <th>thinness 5-9 years</th>\n",
       "      <th>Income composition of resources</th>\n",
       "      <th>Schooling</th>\n",
       "    </tr>\n",
       "  </thead>\n",
       "  <tbody>\n",
       "    <tr>\n",
       "      <th>0</th>\n",
       "      <td>Afghanistan</td>\n",
       "      <td>2015</td>\n",
       "      <td>Developing</td>\n",
       "      <td>65.000</td>\n",
       "      <td>263.000</td>\n",
       "      <td>62</td>\n",
       "      <td>0.010</td>\n",
       "      <td>71.280</td>\n",
       "      <td>65.000</td>\n",
       "      <td>1154</td>\n",
       "      <td>...</td>\n",
       "      <td>6.000</td>\n",
       "      <td>8.160</td>\n",
       "      <td>65.000</td>\n",
       "      <td>0.100</td>\n",
       "      <td>584.259</td>\n",
       "      <td>33736494.000</td>\n",
       "      <td>17.200</td>\n",
       "      <td>17.300</td>\n",
       "      <td>0.479</td>\n",
       "      <td>10.100</td>\n",
       "    </tr>\n",
       "    <tr>\n",
       "      <th>1</th>\n",
       "      <td>Afghanistan</td>\n",
       "      <td>2014</td>\n",
       "      <td>Developing</td>\n",
       "      <td>59.900</td>\n",
       "      <td>271.000</td>\n",
       "      <td>64</td>\n",
       "      <td>0.010</td>\n",
       "      <td>73.524</td>\n",
       "      <td>62.000</td>\n",
       "      <td>492</td>\n",
       "      <td>...</td>\n",
       "      <td>58.000</td>\n",
       "      <td>8.180</td>\n",
       "      <td>62.000</td>\n",
       "      <td>0.100</td>\n",
       "      <td>612.697</td>\n",
       "      <td>327582.000</td>\n",
       "      <td>17.500</td>\n",
       "      <td>17.500</td>\n",
       "      <td>0.476</td>\n",
       "      <td>10.000</td>\n",
       "    </tr>\n",
       "    <tr>\n",
       "      <th>2</th>\n",
       "      <td>Afghanistan</td>\n",
       "      <td>2013</td>\n",
       "      <td>Developing</td>\n",
       "      <td>59.900</td>\n",
       "      <td>268.000</td>\n",
       "      <td>66</td>\n",
       "      <td>0.010</td>\n",
       "      <td>73.219</td>\n",
       "      <td>64.000</td>\n",
       "      <td>430</td>\n",
       "      <td>...</td>\n",
       "      <td>62.000</td>\n",
       "      <td>8.130</td>\n",
       "      <td>64.000</td>\n",
       "      <td>0.100</td>\n",
       "      <td>631.745</td>\n",
       "      <td>31731688.000</td>\n",
       "      <td>17.700</td>\n",
       "      <td>17.700</td>\n",
       "      <td>0.470</td>\n",
       "      <td>9.900</td>\n",
       "    </tr>\n",
       "    <tr>\n",
       "      <th>3</th>\n",
       "      <td>Afghanistan</td>\n",
       "      <td>2012</td>\n",
       "      <td>Developing</td>\n",
       "      <td>59.500</td>\n",
       "      <td>272.000</td>\n",
       "      <td>69</td>\n",
       "      <td>0.010</td>\n",
       "      <td>78.184</td>\n",
       "      <td>67.000</td>\n",
       "      <td>2787</td>\n",
       "      <td>...</td>\n",
       "      <td>67.000</td>\n",
       "      <td>8.520</td>\n",
       "      <td>67.000</td>\n",
       "      <td>0.100</td>\n",
       "      <td>669.959</td>\n",
       "      <td>3696958.000</td>\n",
       "      <td>17.900</td>\n",
       "      <td>18.000</td>\n",
       "      <td>0.463</td>\n",
       "      <td>9.800</td>\n",
       "    </tr>\n",
       "    <tr>\n",
       "      <th>4</th>\n",
       "      <td>Afghanistan</td>\n",
       "      <td>2011</td>\n",
       "      <td>Developing</td>\n",
       "      <td>59.200</td>\n",
       "      <td>275.000</td>\n",
       "      <td>71</td>\n",
       "      <td>0.010</td>\n",
       "      <td>7.097</td>\n",
       "      <td>68.000</td>\n",
       "      <td>3013</td>\n",
       "      <td>...</td>\n",
       "      <td>68.000</td>\n",
       "      <td>7.870</td>\n",
       "      <td>68.000</td>\n",
       "      <td>0.100</td>\n",
       "      <td>63.537</td>\n",
       "      <td>2978599.000</td>\n",
       "      <td>18.200</td>\n",
       "      <td>18.200</td>\n",
       "      <td>0.454</td>\n",
       "      <td>9.500</td>\n",
       "    </tr>\n",
       "    <tr>\n",
       "      <th>5</th>\n",
       "      <td>Afghanistan</td>\n",
       "      <td>2010</td>\n",
       "      <td>Developing</td>\n",
       "      <td>58.800</td>\n",
       "      <td>279.000</td>\n",
       "      <td>74</td>\n",
       "      <td>0.010</td>\n",
       "      <td>79.679</td>\n",
       "      <td>66.000</td>\n",
       "      <td>1989</td>\n",
       "      <td>...</td>\n",
       "      <td>66.000</td>\n",
       "      <td>9.200</td>\n",
       "      <td>66.000</td>\n",
       "      <td>0.100</td>\n",
       "      <td>553.329</td>\n",
       "      <td>2883167.000</td>\n",
       "      <td>18.400</td>\n",
       "      <td>18.400</td>\n",
       "      <td>0.448</td>\n",
       "      <td>9.200</td>\n",
       "    </tr>\n",
       "    <tr>\n",
       "      <th>6</th>\n",
       "      <td>Afghanistan</td>\n",
       "      <td>2009</td>\n",
       "      <td>Developing</td>\n",
       "      <td>58.600</td>\n",
       "      <td>281.000</td>\n",
       "      <td>77</td>\n",
       "      <td>0.010</td>\n",
       "      <td>56.762</td>\n",
       "      <td>63.000</td>\n",
       "      <td>2861</td>\n",
       "      <td>...</td>\n",
       "      <td>63.000</td>\n",
       "      <td>9.420</td>\n",
       "      <td>63.000</td>\n",
       "      <td>0.100</td>\n",
       "      <td>445.893</td>\n",
       "      <td>284331.000</td>\n",
       "      <td>18.600</td>\n",
       "      <td>18.700</td>\n",
       "      <td>0.434</td>\n",
       "      <td>8.900</td>\n",
       "    </tr>\n",
       "    <tr>\n",
       "      <th>7</th>\n",
       "      <td>Afghanistan</td>\n",
       "      <td>2008</td>\n",
       "      <td>Developing</td>\n",
       "      <td>58.100</td>\n",
       "      <td>287.000</td>\n",
       "      <td>80</td>\n",
       "      <td>0.030</td>\n",
       "      <td>25.874</td>\n",
       "      <td>64.000</td>\n",
       "      <td>1599</td>\n",
       "      <td>...</td>\n",
       "      <td>64.000</td>\n",
       "      <td>8.330</td>\n",
       "      <td>64.000</td>\n",
       "      <td>0.100</td>\n",
       "      <td>373.361</td>\n",
       "      <td>2729431.000</td>\n",
       "      <td>18.800</td>\n",
       "      <td>18.900</td>\n",
       "      <td>0.433</td>\n",
       "      <td>8.700</td>\n",
       "    </tr>\n",
       "    <tr>\n",
       "      <th>8</th>\n",
       "      <td>Afghanistan</td>\n",
       "      <td>2007</td>\n",
       "      <td>Developing</td>\n",
       "      <td>57.500</td>\n",
       "      <td>295.000</td>\n",
       "      <td>82</td>\n",
       "      <td>0.020</td>\n",
       "      <td>10.910</td>\n",
       "      <td>63.000</td>\n",
       "      <td>1141</td>\n",
       "      <td>...</td>\n",
       "      <td>63.000</td>\n",
       "      <td>6.730</td>\n",
       "      <td>63.000</td>\n",
       "      <td>0.100</td>\n",
       "      <td>369.836</td>\n",
       "      <td>26616792.000</td>\n",
       "      <td>19.000</td>\n",
       "      <td>19.100</td>\n",
       "      <td>0.415</td>\n",
       "      <td>8.400</td>\n",
       "    </tr>\n",
       "    <tr>\n",
       "      <th>9</th>\n",
       "      <td>Afghanistan</td>\n",
       "      <td>2006</td>\n",
       "      <td>Developing</td>\n",
       "      <td>57.300</td>\n",
       "      <td>295.000</td>\n",
       "      <td>84</td>\n",
       "      <td>0.030</td>\n",
       "      <td>17.172</td>\n",
       "      <td>64.000</td>\n",
       "      <td>1990</td>\n",
       "      <td>...</td>\n",
       "      <td>58.000</td>\n",
       "      <td>7.430</td>\n",
       "      <td>58.000</td>\n",
       "      <td>0.100</td>\n",
       "      <td>272.564</td>\n",
       "      <td>2589345.000</td>\n",
       "      <td>19.200</td>\n",
       "      <td>19.300</td>\n",
       "      <td>0.405</td>\n",
       "      <td>8.100</td>\n",
       "    </tr>\n",
       "  </tbody>\n",
       "</table>\n",
       "<p>10 rows × 22 columns</p>\n",
       "</div>"
      ],
      "text/plain": [
       "       Country  Year      Status  Life expectancy   Adult Mortality  \\\n",
       "0  Afghanistan  2015  Developing            65.000          263.000   \n",
       "1  Afghanistan  2014  Developing            59.900          271.000   \n",
       "2  Afghanistan  2013  Developing            59.900          268.000   \n",
       "3  Afghanistan  2012  Developing            59.500          272.000   \n",
       "4  Afghanistan  2011  Developing            59.200          275.000   \n",
       "5  Afghanistan  2010  Developing            58.800          279.000   \n",
       "6  Afghanistan  2009  Developing            58.600          281.000   \n",
       "7  Afghanistan  2008  Developing            58.100          287.000   \n",
       "8  Afghanistan  2007  Developing            57.500          295.000   \n",
       "9  Afghanistan  2006  Developing            57.300          295.000   \n",
       "\n",
       "   infant deaths  Alcohol  percentage expenditure  Hepatitis B  Measles   ...  \\\n",
       "0             62    0.010                  71.280       65.000      1154  ...   \n",
       "1             64    0.010                  73.524       62.000       492  ...   \n",
       "2             66    0.010                  73.219       64.000       430  ...   \n",
       "3             69    0.010                  78.184       67.000      2787  ...   \n",
       "4             71    0.010                   7.097       68.000      3013  ...   \n",
       "5             74    0.010                  79.679       66.000      1989  ...   \n",
       "6             77    0.010                  56.762       63.000      2861  ...   \n",
       "7             80    0.030                  25.874       64.000      1599  ...   \n",
       "8             82    0.020                  10.910       63.000      1141  ...   \n",
       "9             84    0.030                  17.172       64.000      1990  ...   \n",
       "\n",
       "   Polio  Total expenditure  Diphtheria    HIV/AIDS     GDP   Population  \\\n",
       "0  6.000              8.160       65.000      0.100 584.259 33736494.000   \n",
       "1 58.000              8.180       62.000      0.100 612.697   327582.000   \n",
       "2 62.000              8.130       64.000      0.100 631.745 31731688.000   \n",
       "3 67.000              8.520       67.000      0.100 669.959  3696958.000   \n",
       "4 68.000              7.870       68.000      0.100  63.537  2978599.000   \n",
       "5 66.000              9.200       66.000      0.100 553.329  2883167.000   \n",
       "6 63.000              9.420       63.000      0.100 445.893   284331.000   \n",
       "7 64.000              8.330       64.000      0.100 373.361  2729431.000   \n",
       "8 63.000              6.730       63.000      0.100 369.836 26616792.000   \n",
       "9 58.000              7.430       58.000      0.100 272.564  2589345.000   \n",
       "\n",
       "    thinness  1-19 years   thinness 5-9 years  \\\n",
       "0                 17.200               17.300   \n",
       "1                 17.500               17.500   \n",
       "2                 17.700               17.700   \n",
       "3                 17.900               18.000   \n",
       "4                 18.200               18.200   \n",
       "5                 18.400               18.400   \n",
       "6                 18.600               18.700   \n",
       "7                 18.800               18.900   \n",
       "8                 19.000               19.100   \n",
       "9                 19.200               19.300   \n",
       "\n",
       "   Income composition of resources  Schooling  \n",
       "0                            0.479     10.100  \n",
       "1                            0.476     10.000  \n",
       "2                            0.470      9.900  \n",
       "3                            0.463      9.800  \n",
       "4                            0.454      9.500  \n",
       "5                            0.448      9.200  \n",
       "6                            0.434      8.900  \n",
       "7                            0.433      8.700  \n",
       "8                            0.415      8.400  \n",
       "9                            0.405      8.100  \n",
       "\n",
       "[10 rows x 22 columns]"
      ]
     },
     "execution_count": 6,
     "metadata": {},
     "output_type": "execute_result"
    }
   ],
   "source": [
    "df.head(10)"
   ]
  },
  {
   "cell_type": "code",
   "execution_count": 7,
   "id": "e8c5ced1",
   "metadata": {
    "execution": {
     "iopub.execute_input": "2025-03-01T11:45:13.646559Z",
     "iopub.status.busy": "2025-03-01T11:45:13.646158Z",
     "iopub.status.idle": "2025-03-01T11:45:13.664701Z",
     "shell.execute_reply": "2025-03-01T11:45:13.663540Z"
    },
    "papermill": {
     "duration": 0.02908,
     "end_time": "2025-03-01T11:45:13.666781",
     "exception": false,
     "start_time": "2025-03-01T11:45:13.637701",
     "status": "completed"
    },
    "tags": []
   },
   "outputs": [
    {
     "data": {
      "text/html": [
       "<div>\n",
       "<style scoped>\n",
       "    .dataframe tbody tr th:only-of-type {\n",
       "        vertical-align: middle;\n",
       "    }\n",
       "\n",
       "    .dataframe tbody tr th {\n",
       "        vertical-align: top;\n",
       "    }\n",
       "\n",
       "    .dataframe thead th {\n",
       "        text-align: right;\n",
       "    }\n",
       "</style>\n",
       "<table border=\"1\" class=\"dataframe\">\n",
       "  <thead>\n",
       "    <tr style=\"text-align: right;\">\n",
       "      <th></th>\n",
       "      <th>Country</th>\n",
       "      <th>Year</th>\n",
       "      <th>Status</th>\n",
       "      <th>Life expectancy</th>\n",
       "      <th>Adult Mortality</th>\n",
       "      <th>infant deaths</th>\n",
       "      <th>Alcohol</th>\n",
       "      <th>percentage expenditure</th>\n",
       "      <th>Hepatitis B</th>\n",
       "      <th>Measles</th>\n",
       "      <th>...</th>\n",
       "      <th>Polio</th>\n",
       "      <th>Total expenditure</th>\n",
       "      <th>Diphtheria</th>\n",
       "      <th>HIV/AIDS</th>\n",
       "      <th>GDP</th>\n",
       "      <th>Population</th>\n",
       "      <th>thinness  1-19 years</th>\n",
       "      <th>thinness 5-9 years</th>\n",
       "      <th>Income composition of resources</th>\n",
       "      <th>Schooling</th>\n",
       "    </tr>\n",
       "  </thead>\n",
       "  <tbody>\n",
       "    <tr>\n",
       "      <th>2933</th>\n",
       "      <td>Zimbabwe</td>\n",
       "      <td>2004</td>\n",
       "      <td>Developing</td>\n",
       "      <td>44.300</td>\n",
       "      <td>723.000</td>\n",
       "      <td>27</td>\n",
       "      <td>4.360</td>\n",
       "      <td>0.000</td>\n",
       "      <td>68.000</td>\n",
       "      <td>31</td>\n",
       "      <td>...</td>\n",
       "      <td>67.000</td>\n",
       "      <td>7.130</td>\n",
       "      <td>65.000</td>\n",
       "      <td>33.600</td>\n",
       "      <td>454.367</td>\n",
       "      <td>12777511.000</td>\n",
       "      <td>9.400</td>\n",
       "      <td>9.400</td>\n",
       "      <td>0.407</td>\n",
       "      <td>9.200</td>\n",
       "    </tr>\n",
       "    <tr>\n",
       "      <th>2934</th>\n",
       "      <td>Zimbabwe</td>\n",
       "      <td>2003</td>\n",
       "      <td>Developing</td>\n",
       "      <td>44.500</td>\n",
       "      <td>715.000</td>\n",
       "      <td>26</td>\n",
       "      <td>4.060</td>\n",
       "      <td>0.000</td>\n",
       "      <td>7.000</td>\n",
       "      <td>998</td>\n",
       "      <td>...</td>\n",
       "      <td>7.000</td>\n",
       "      <td>6.520</td>\n",
       "      <td>68.000</td>\n",
       "      <td>36.700</td>\n",
       "      <td>453.351</td>\n",
       "      <td>12633897.000</td>\n",
       "      <td>9.800</td>\n",
       "      <td>9.900</td>\n",
       "      <td>0.418</td>\n",
       "      <td>9.500</td>\n",
       "    </tr>\n",
       "    <tr>\n",
       "      <th>2935</th>\n",
       "      <td>Zimbabwe</td>\n",
       "      <td>2002</td>\n",
       "      <td>Developing</td>\n",
       "      <td>44.800</td>\n",
       "      <td>73.000</td>\n",
       "      <td>25</td>\n",
       "      <td>4.430</td>\n",
       "      <td>0.000</td>\n",
       "      <td>73.000</td>\n",
       "      <td>304</td>\n",
       "      <td>...</td>\n",
       "      <td>73.000</td>\n",
       "      <td>6.530</td>\n",
       "      <td>71.000</td>\n",
       "      <td>39.800</td>\n",
       "      <td>57.348</td>\n",
       "      <td>125525.000</td>\n",
       "      <td>1.200</td>\n",
       "      <td>1.300</td>\n",
       "      <td>0.427</td>\n",
       "      <td>10.000</td>\n",
       "    </tr>\n",
       "    <tr>\n",
       "      <th>2936</th>\n",
       "      <td>Zimbabwe</td>\n",
       "      <td>2001</td>\n",
       "      <td>Developing</td>\n",
       "      <td>45.300</td>\n",
       "      <td>686.000</td>\n",
       "      <td>25</td>\n",
       "      <td>1.720</td>\n",
       "      <td>0.000</td>\n",
       "      <td>76.000</td>\n",
       "      <td>529</td>\n",
       "      <td>...</td>\n",
       "      <td>76.000</td>\n",
       "      <td>6.160</td>\n",
       "      <td>75.000</td>\n",
       "      <td>42.100</td>\n",
       "      <td>548.587</td>\n",
       "      <td>12366165.000</td>\n",
       "      <td>1.600</td>\n",
       "      <td>1.700</td>\n",
       "      <td>0.427</td>\n",
       "      <td>9.800</td>\n",
       "    </tr>\n",
       "    <tr>\n",
       "      <th>2937</th>\n",
       "      <td>Zimbabwe</td>\n",
       "      <td>2000</td>\n",
       "      <td>Developing</td>\n",
       "      <td>46.000</td>\n",
       "      <td>665.000</td>\n",
       "      <td>24</td>\n",
       "      <td>1.680</td>\n",
       "      <td>0.000</td>\n",
       "      <td>79.000</td>\n",
       "      <td>1483</td>\n",
       "      <td>...</td>\n",
       "      <td>78.000</td>\n",
       "      <td>7.100</td>\n",
       "      <td>78.000</td>\n",
       "      <td>43.500</td>\n",
       "      <td>547.359</td>\n",
       "      <td>12222251.000</td>\n",
       "      <td>11.000</td>\n",
       "      <td>11.200</td>\n",
       "      <td>0.434</td>\n",
       "      <td>9.800</td>\n",
       "    </tr>\n",
       "  </tbody>\n",
       "</table>\n",
       "<p>5 rows × 22 columns</p>\n",
       "</div>"
      ],
      "text/plain": [
       "       Country  Year      Status  Life expectancy   Adult Mortality  \\\n",
       "2933  Zimbabwe  2004  Developing            44.300          723.000   \n",
       "2934  Zimbabwe  2003  Developing            44.500          715.000   \n",
       "2935  Zimbabwe  2002  Developing            44.800           73.000   \n",
       "2936  Zimbabwe  2001  Developing            45.300          686.000   \n",
       "2937  Zimbabwe  2000  Developing            46.000          665.000   \n",
       "\n",
       "      infant deaths  Alcohol  percentage expenditure  Hepatitis B  Measles   \\\n",
       "2933             27    4.360                   0.000       68.000        31   \n",
       "2934             26    4.060                   0.000        7.000       998   \n",
       "2935             25    4.430                   0.000       73.000       304   \n",
       "2936             25    1.720                   0.000       76.000       529   \n",
       "2937             24    1.680                   0.000       79.000      1483   \n",
       "\n",
       "      ...  Polio  Total expenditure  Diphtheria    HIV/AIDS     GDP  \\\n",
       "2933  ... 67.000              7.130       65.000     33.600 454.367   \n",
       "2934  ...  7.000              6.520       68.000     36.700 453.351   \n",
       "2935  ... 73.000              6.530       71.000     39.800  57.348   \n",
       "2936  ... 76.000              6.160       75.000     42.100 548.587   \n",
       "2937  ... 78.000              7.100       78.000     43.500 547.359   \n",
       "\n",
       "       Population   thinness  1-19 years   thinness 5-9 years  \\\n",
       "2933 12777511.000                  9.400                9.400   \n",
       "2934 12633897.000                  9.800                9.900   \n",
       "2935   125525.000                  1.200                1.300   \n",
       "2936 12366165.000                  1.600                1.700   \n",
       "2937 12222251.000                 11.000               11.200   \n",
       "\n",
       "      Income composition of resources  Schooling  \n",
       "2933                            0.407      9.200  \n",
       "2934                            0.418      9.500  \n",
       "2935                            0.427     10.000  \n",
       "2936                            0.427      9.800  \n",
       "2937                            0.434      9.800  \n",
       "\n",
       "[5 rows x 22 columns]"
      ]
     },
     "execution_count": 7,
     "metadata": {},
     "output_type": "execute_result"
    }
   ],
   "source": [
    "df.tail()"
   ]
  },
  {
   "cell_type": "code",
   "execution_count": 8,
   "id": "e7596d20",
   "metadata": {
    "execution": {
     "iopub.execute_input": "2025-03-01T11:45:13.683265Z",
     "iopub.status.busy": "2025-03-01T11:45:13.682886Z",
     "iopub.status.idle": "2025-03-01T11:45:13.689278Z",
     "shell.execute_reply": "2025-03-01T11:45:13.688118Z"
    },
    "papermill": {
     "duration": 0.017471,
     "end_time": "2025-03-01T11:45:13.691397",
     "exception": false,
     "start_time": "2025-03-01T11:45:13.673926",
     "status": "completed"
    },
    "tags": []
   },
   "outputs": [
    {
     "data": {
      "text/plain": [
       "(2938, 22)"
      ]
     },
     "execution_count": 8,
     "metadata": {},
     "output_type": "execute_result"
    }
   ],
   "source": [
    "df.shape"
   ]
  },
  {
   "cell_type": "code",
   "execution_count": 9,
   "id": "5061e0ed",
   "metadata": {
    "execution": {
     "iopub.execute_input": "2025-03-01T11:45:13.707272Z",
     "iopub.status.busy": "2025-03-01T11:45:13.706902Z",
     "iopub.status.idle": "2025-03-01T11:45:13.731379Z",
     "shell.execute_reply": "2025-03-01T11:45:13.730288Z"
    },
    "papermill": {
     "duration": 0.035132,
     "end_time": "2025-03-01T11:45:13.733752",
     "exception": false,
     "start_time": "2025-03-01T11:45:13.698620",
     "status": "completed"
    },
    "tags": []
   },
   "outputs": [
    {
     "name": "stdout",
     "output_type": "stream",
     "text": [
      "<class 'pandas.core.frame.DataFrame'>\n",
      "RangeIndex: 2938 entries, 0 to 2937\n",
      "Data columns (total 22 columns):\n",
      " #   Column                           Non-Null Count  Dtype  \n",
      "---  ------                           --------------  -----  \n",
      " 0   Country                          2938 non-null   object \n",
      " 1   Year                             2938 non-null   int64  \n",
      " 2   Status                           2938 non-null   object \n",
      " 3   Life expectancy                  2928 non-null   float64\n",
      " 4   Adult Mortality                  2928 non-null   float64\n",
      " 5   infant deaths                    2938 non-null   int64  \n",
      " 6   Alcohol                          2744 non-null   float64\n",
      " 7   percentage expenditure           2938 non-null   float64\n",
      " 8   Hepatitis B                      2385 non-null   float64\n",
      " 9   Measles                          2938 non-null   int64  \n",
      " 10   BMI                             2904 non-null   float64\n",
      " 11  under-five deaths                2938 non-null   int64  \n",
      " 12  Polio                            2919 non-null   float64\n",
      " 13  Total expenditure                2712 non-null   float64\n",
      " 14  Diphtheria                       2919 non-null   float64\n",
      " 15   HIV/AIDS                        2938 non-null   float64\n",
      " 16  GDP                              2490 non-null   float64\n",
      " 17  Population                       2286 non-null   float64\n",
      " 18   thinness  1-19 years            2904 non-null   float64\n",
      " 19   thinness 5-9 years              2904 non-null   float64\n",
      " 20  Income composition of resources  2771 non-null   float64\n",
      " 21  Schooling                        2775 non-null   float64\n",
      "dtypes: float64(16), int64(4), object(2)\n",
      "memory usage: 505.1+ KB\n"
     ]
    }
   ],
   "source": [
    "df.info()"
   ]
  },
  {
   "cell_type": "code",
   "execution_count": 10,
   "id": "5b6dbd63",
   "metadata": {
    "execution": {
     "iopub.execute_input": "2025-03-01T11:45:13.751374Z",
     "iopub.status.busy": "2025-03-01T11:45:13.750988Z",
     "iopub.status.idle": "2025-03-01T11:45:13.757632Z",
     "shell.execute_reply": "2025-03-01T11:45:13.756460Z"
    },
    "papermill": {
     "duration": 0.017403,
     "end_time": "2025-03-01T11:45:13.759747",
     "exception": false,
     "start_time": "2025-03-01T11:45:13.742344",
     "status": "completed"
    },
    "tags": []
   },
   "outputs": [
    {
     "data": {
      "text/plain": [
       "Index(['Country', 'Year', 'Status', 'Life expectancy ', 'Adult Mortality',\n",
       "       'infant deaths', 'Alcohol', 'percentage expenditure', 'Hepatitis B',\n",
       "       'Measles ', ' BMI ', 'under-five deaths ', 'Polio', 'Total expenditure',\n",
       "       'Diphtheria ', ' HIV/AIDS', 'GDP', 'Population',\n",
       "       ' thinness  1-19 years', ' thinness 5-9 years',\n",
       "       'Income composition of resources', 'Schooling'],\n",
       "      dtype='object')"
      ]
     },
     "execution_count": 10,
     "metadata": {},
     "output_type": "execute_result"
    }
   ],
   "source": [
    "df.columns"
   ]
  },
  {
   "cell_type": "code",
   "execution_count": 11,
   "id": "fac4719f",
   "metadata": {
    "execution": {
     "iopub.execute_input": "2025-03-01T11:45:13.775982Z",
     "iopub.status.busy": "2025-03-01T11:45:13.775620Z",
     "iopub.status.idle": "2025-03-01T11:45:13.783554Z",
     "shell.execute_reply": "2025-03-01T11:45:13.782511Z"
    },
    "papermill": {
     "duration": 0.018852,
     "end_time": "2025-03-01T11:45:13.785885",
     "exception": false,
     "start_time": "2025-03-01T11:45:13.767033",
     "status": "completed"
    },
    "tags": []
   },
   "outputs": [
    {
     "data": {
      "text/plain": [
       "Country                             object\n",
       "Year                                 int64\n",
       "Status                              object\n",
       "Life expectancy                    float64\n",
       "Adult Mortality                    float64\n",
       "infant deaths                        int64\n",
       "Alcohol                            float64\n",
       "percentage expenditure             float64\n",
       "Hepatitis B                        float64\n",
       "Measles                              int64\n",
       " BMI                               float64\n",
       "under-five deaths                    int64\n",
       "Polio                              float64\n",
       "Total expenditure                  float64\n",
       "Diphtheria                         float64\n",
       " HIV/AIDS                          float64\n",
       "GDP                                float64\n",
       "Population                         float64\n",
       " thinness  1-19 years              float64\n",
       " thinness 5-9 years                float64\n",
       "Income composition of resources    float64\n",
       "Schooling                          float64\n",
       "dtype: object"
      ]
     },
     "execution_count": 11,
     "metadata": {},
     "output_type": "execute_result"
    }
   ],
   "source": [
    "df.dtypes"
   ]
  },
  {
   "cell_type": "markdown",
   "id": "9d9163cd",
   "metadata": {
    "papermill": {
     "duration": 0.007172,
     "end_time": "2025-03-01T11:45:13.800393",
     "exception": false,
     "start_time": "2025-03-01T11:45:13.793221",
     "status": "completed"
    },
    "tags": []
   },
   "source": [
    "# Remove Null values"
   ]
  },
  {
   "cell_type": "code",
   "execution_count": 12,
   "id": "11aed1fb",
   "metadata": {
    "execution": {
     "iopub.execute_input": "2025-03-01T11:45:13.817428Z",
     "iopub.status.busy": "2025-03-01T11:45:13.816494Z",
     "iopub.status.idle": "2025-03-01T11:45:13.825185Z",
     "shell.execute_reply": "2025-03-01T11:45:13.824314Z"
    },
    "papermill": {
     "duration": 0.019377,
     "end_time": "2025-03-01T11:45:13.827229",
     "exception": false,
     "start_time": "2025-03-01T11:45:13.807852",
     "status": "completed"
    },
    "tags": []
   },
   "outputs": [],
   "source": [
    "df = df.dropna()"
   ]
  },
  {
   "cell_type": "code",
   "execution_count": 13,
   "id": "0018dc22",
   "metadata": {
    "execution": {
     "iopub.execute_input": "2025-03-01T11:45:13.844062Z",
     "iopub.status.busy": "2025-03-01T11:45:13.843663Z",
     "iopub.status.idle": "2025-03-01T11:45:13.850760Z",
     "shell.execute_reply": "2025-03-01T11:45:13.849713Z"
    },
    "papermill": {
     "duration": 0.018243,
     "end_time": "2025-03-01T11:45:13.852919",
     "exception": false,
     "start_time": "2025-03-01T11:45:13.834676",
     "status": "completed"
    },
    "tags": []
   },
   "outputs": [
    {
     "data": {
      "text/plain": [
       "(1649, 22)"
      ]
     },
     "execution_count": 13,
     "metadata": {},
     "output_type": "execute_result"
    }
   ],
   "source": [
    "df.shape"
   ]
  },
  {
   "cell_type": "markdown",
   "id": "97d3d29d",
   "metadata": {
    "papermill": {
     "duration": 0.007841,
     "end_time": "2025-03-01T11:45:13.868478",
     "exception": false,
     "start_time": "2025-03-01T11:45:13.860637",
     "status": "completed"
    },
    "tags": []
   },
   "source": [
    "## Removing Extra Spacing from Columns Starting and Ending"
   ]
  },
  {
   "cell_type": "code",
   "execution_count": 14,
   "id": "40e53375",
   "metadata": {
    "execution": {
     "iopub.execute_input": "2025-03-01T11:45:13.885886Z",
     "iopub.status.busy": "2025-03-01T11:45:13.885460Z",
     "iopub.status.idle": "2025-03-01T11:45:13.891288Z",
     "shell.execute_reply": "2025-03-01T11:45:13.890223Z"
    },
    "papermill": {
     "duration": 0.017012,
     "end_time": "2025-03-01T11:45:13.893345",
     "exception": false,
     "start_time": "2025-03-01T11:45:13.876333",
     "status": "completed"
    },
    "tags": []
   },
   "outputs": [],
   "source": [
    "# remove space in column values using columns.str.replace() function\n",
    "df.columns = df.columns.str.replace(' ', '')"
   ]
  },
  {
   "cell_type": "code",
   "execution_count": 15,
   "id": "329fe3c1",
   "metadata": {
    "execution": {
     "iopub.execute_input": "2025-03-01T11:45:13.910692Z",
     "iopub.status.busy": "2025-03-01T11:45:13.909836Z",
     "iopub.status.idle": "2025-03-01T11:45:13.916996Z",
     "shell.execute_reply": "2025-03-01T11:45:13.915771Z"
    },
    "papermill": {
     "duration": 0.018102,
     "end_time": "2025-03-01T11:45:13.919087",
     "exception": false,
     "start_time": "2025-03-01T11:45:13.900985",
     "status": "completed"
    },
    "tags": []
   },
   "outputs": [
    {
     "data": {
      "text/plain": [
       "Index(['Country', 'Year', 'Status', 'Lifeexpectancy', 'AdultMortality',\n",
       "       'infantdeaths', 'Alcohol', 'percentageexpenditure', 'HepatitisB',\n",
       "       'Measles', 'BMI', 'under-fivedeaths', 'Polio', 'Totalexpenditure',\n",
       "       'Diphtheria', 'HIV/AIDS', 'GDP', 'Population', 'thinness1-19years',\n",
       "       'thinness5-9years', 'Incomecompositionofresources', 'Schooling'],\n",
       "      dtype='object')"
      ]
     },
     "execution_count": 15,
     "metadata": {},
     "output_type": "execute_result"
    }
   ],
   "source": [
    "df.columns"
   ]
  },
  {
   "cell_type": "code",
   "execution_count": 16,
   "id": "545f6162",
   "metadata": {
    "execution": {
     "iopub.execute_input": "2025-03-01T11:45:13.935784Z",
     "iopub.status.busy": "2025-03-01T11:45:13.935392Z",
     "iopub.status.idle": "2025-03-01T11:45:13.940691Z",
     "shell.execute_reply": "2025-03-01T11:45:13.939632Z"
    },
    "papermill": {
     "duration": 0.016032,
     "end_time": "2025-03-01T11:45:13.942772",
     "exception": false,
     "start_time": "2025-03-01T11:45:13.926740",
     "status": "completed"
    },
    "tags": []
   },
   "outputs": [],
   "source": [
    "df.columns = df.columns.str.lower()"
   ]
  },
  {
   "cell_type": "code",
   "execution_count": 17,
   "id": "875aaa5d",
   "metadata": {
    "execution": {
     "iopub.execute_input": "2025-03-01T11:45:13.959674Z",
     "iopub.status.busy": "2025-03-01T11:45:13.959269Z",
     "iopub.status.idle": "2025-03-01T11:45:13.966535Z",
     "shell.execute_reply": "2025-03-01T11:45:13.965480Z"
    },
    "papermill": {
     "duration": 0.018202,
     "end_time": "2025-03-01T11:45:13.968707",
     "exception": false,
     "start_time": "2025-03-01T11:45:13.950505",
     "status": "completed"
    },
    "tags": []
   },
   "outputs": [
    {
     "data": {
      "text/plain": [
       "Index(['country', 'year', 'status', 'lifeexpectancy', 'adultmortality',\n",
       "       'infantdeaths', 'alcohol', 'percentageexpenditure', 'hepatitisb',\n",
       "       'measles', 'bmi', 'under-fivedeaths', 'polio', 'totalexpenditure',\n",
       "       'diphtheria', 'hiv/aids', 'gdp', 'population', 'thinness1-19years',\n",
       "       'thinness5-9years', 'incomecompositionofresources', 'schooling'],\n",
       "      dtype='object')"
      ]
     },
     "execution_count": 17,
     "metadata": {},
     "output_type": "execute_result"
    }
   ],
   "source": [
    "df.columns"
   ]
  },
  {
   "cell_type": "code",
   "execution_count": 18,
   "id": "475442ad",
   "metadata": {
    "execution": {
     "iopub.execute_input": "2025-03-01T11:45:13.985661Z",
     "iopub.status.busy": "2025-03-01T11:45:13.985259Z",
     "iopub.status.idle": "2025-03-01T11:45:13.993151Z",
     "shell.execute_reply": "2025-03-01T11:45:13.992165Z"
    },
    "papermill": {
     "duration": 0.018803,
     "end_time": "2025-03-01T11:45:13.995199",
     "exception": false,
     "start_time": "2025-03-01T11:45:13.976396",
     "status": "completed"
    },
    "tags": []
   },
   "outputs": [
    {
     "data": {
      "text/plain": [
       "country                          object\n",
       "year                              int64\n",
       "status                           object\n",
       "lifeexpectancy                  float64\n",
       "adultmortality                  float64\n",
       "infantdeaths                      int64\n",
       "alcohol                         float64\n",
       "percentageexpenditure           float64\n",
       "hepatitisb                      float64\n",
       "measles                           int64\n",
       "bmi                             float64\n",
       "under-fivedeaths                  int64\n",
       "polio                           float64\n",
       "totalexpenditure                float64\n",
       "diphtheria                      float64\n",
       "hiv/aids                        float64\n",
       "gdp                             float64\n",
       "population                      float64\n",
       "thinness1-19years               float64\n",
       "thinness5-9years                float64\n",
       "incomecompositionofresources    float64\n",
       "schooling                       float64\n",
       "dtype: object"
      ]
     },
     "execution_count": 18,
     "metadata": {},
     "output_type": "execute_result"
    }
   ],
   "source": [
    "df.dtypes"
   ]
  },
  {
   "cell_type": "code",
   "execution_count": 19,
   "id": "b5fc0115",
   "metadata": {
    "execution": {
     "iopub.execute_input": "2025-03-01T11:45:14.012531Z",
     "iopub.status.busy": "2025-03-01T11:45:14.012147Z",
     "iopub.status.idle": "2025-03-01T11:45:14.018604Z",
     "shell.execute_reply": "2025-03-01T11:45:14.017275Z"
    },
    "papermill": {
     "duration": 0.017469,
     "end_time": "2025-03-01T11:45:14.020775",
     "exception": false,
     "start_time": "2025-03-01T11:45:14.003306",
     "status": "completed"
    },
    "tags": []
   },
   "outputs": [],
   "source": [
    "df.year = df.year.astype(str)"
   ]
  },
  {
   "cell_type": "code",
   "execution_count": 20,
   "id": "c4204205",
   "metadata": {
    "execution": {
     "iopub.execute_input": "2025-03-01T11:45:14.038753Z",
     "iopub.status.busy": "2025-03-01T11:45:14.038318Z",
     "iopub.status.idle": "2025-03-01T11:45:14.046738Z",
     "shell.execute_reply": "2025-03-01T11:45:14.045698Z"
    },
    "papermill": {
     "duration": 0.019427,
     "end_time": "2025-03-01T11:45:14.048789",
     "exception": false,
     "start_time": "2025-03-01T11:45:14.029362",
     "status": "completed"
    },
    "tags": []
   },
   "outputs": [
    {
     "data": {
      "text/plain": [
       "country                          object\n",
       "year                             object\n",
       "status                           object\n",
       "lifeexpectancy                  float64\n",
       "adultmortality                  float64\n",
       "infantdeaths                      int64\n",
       "alcohol                         float64\n",
       "percentageexpenditure           float64\n",
       "hepatitisb                      float64\n",
       "measles                           int64\n",
       "bmi                             float64\n",
       "under-fivedeaths                  int64\n",
       "polio                           float64\n",
       "totalexpenditure                float64\n",
       "diphtheria                      float64\n",
       "hiv/aids                        float64\n",
       "gdp                             float64\n",
       "population                      float64\n",
       "thinness1-19years               float64\n",
       "thinness5-9years                float64\n",
       "incomecompositionofresources    float64\n",
       "schooling                       float64\n",
       "dtype: object"
      ]
     },
     "execution_count": 20,
     "metadata": {},
     "output_type": "execute_result"
    }
   ],
   "source": [
    "df.dtypes"
   ]
  },
  {
   "cell_type": "code",
   "execution_count": 21,
   "id": "a57b8dc3",
   "metadata": {
    "execution": {
     "iopub.execute_input": "2025-03-01T11:45:14.066515Z",
     "iopub.status.busy": "2025-03-01T11:45:14.065729Z",
     "iopub.status.idle": "2025-03-01T11:45:14.071681Z",
     "shell.execute_reply": "2025-03-01T11:45:14.070606Z"
    },
    "papermill": {
     "duration": 0.016902,
     "end_time": "2025-03-01T11:45:14.073712",
     "exception": false,
     "start_time": "2025-03-01T11:45:14.056810",
     "status": "completed"
    },
    "tags": []
   },
   "outputs": [],
   "source": [
    "numerical_types = ['int16', 'int32', 'int64', 'float16', 'float32', 'float64']\n",
    "\n",
    "life_expectancy_numeric = df.select_dtypes(include=numerical_types)"
   ]
  },
  {
   "cell_type": "code",
   "execution_count": 22,
   "id": "91f6d6be",
   "metadata": {
    "execution": {
     "iopub.execute_input": "2025-03-01T11:45:14.091355Z",
     "iopub.status.busy": "2025-03-01T11:45:14.090935Z",
     "iopub.status.idle": "2025-03-01T11:45:14.098031Z",
     "shell.execute_reply": "2025-03-01T11:45:14.096985Z"
    },
    "papermill": {
     "duration": 0.018549,
     "end_time": "2025-03-01T11:45:14.100377",
     "exception": false,
     "start_time": "2025-03-01T11:45:14.081828",
     "status": "completed"
    },
    "tags": []
   },
   "outputs": [
    {
     "data": {
      "text/plain": [
       "Index(['lifeexpectancy', 'adultmortality', 'infantdeaths', 'alcohol',\n",
       "       'percentageexpenditure', 'hepatitisb', 'measles', 'bmi',\n",
       "       'under-fivedeaths', 'polio', 'totalexpenditure', 'diphtheria',\n",
       "       'hiv/aids', 'gdp', 'population', 'thinness1-19years',\n",
       "       'thinness5-9years', 'incomecompositionofresources', 'schooling'],\n",
       "      dtype='object')"
      ]
     },
     "execution_count": 22,
     "metadata": {},
     "output_type": "execute_result"
    }
   ],
   "source": [
    "life_expectancy_numeric.columns"
   ]
  },
  {
   "cell_type": "code",
   "execution_count": 23,
   "id": "a4472971",
   "metadata": {
    "execution": {
     "iopub.execute_input": "2025-03-01T11:45:14.118559Z",
     "iopub.status.busy": "2025-03-01T11:45:14.118161Z",
     "iopub.status.idle": "2025-03-01T11:45:14.124717Z",
     "shell.execute_reply": "2025-03-01T11:45:14.123759Z"
    },
    "papermill": {
     "duration": 0.017643,
     "end_time": "2025-03-01T11:45:14.126640",
     "exception": false,
     "start_time": "2025-03-01T11:45:14.108997",
     "status": "completed"
    },
    "tags": []
   },
   "outputs": [
    {
     "data": {
      "text/plain": [
       "(1649, 19)"
      ]
     },
     "execution_count": 23,
     "metadata": {},
     "output_type": "execute_result"
    }
   ],
   "source": [
    "life_expectancy_numeric.shape\n"
   ]
  },
  {
   "cell_type": "markdown",
   "id": "1f206895",
   "metadata": {
    "papermill": {
     "duration": 0.007744,
     "end_time": "2025-03-01T11:45:14.142627",
     "exception": false,
     "start_time": "2025-03-01T11:45:14.134883",
     "status": "completed"
    },
    "tags": []
   },
   "source": [
    "# Mean"
   ]
  },
  {
   "cell_type": "code",
   "execution_count": 24,
   "id": "aa80a8e9",
   "metadata": {
    "execution": {
     "iopub.execute_input": "2025-03-01T11:45:14.161100Z",
     "iopub.status.busy": "2025-03-01T11:45:14.160682Z",
     "iopub.status.idle": "2025-03-01T11:45:14.172818Z",
     "shell.execute_reply": "2025-03-01T11:45:14.171757Z"
    },
    "papermill": {
     "duration": 0.023663,
     "end_time": "2025-03-01T11:45:14.174993",
     "exception": false,
     "start_time": "2025-03-01T11:45:14.151330",
     "status": "completed"
    },
    "tags": []
   },
   "outputs": [
    {
     "name": "stdout",
     "output_type": "stream",
     "text": [
      "                          Column         Mean\n",
      "0                 lifeexpectancy       69.302\n",
      "1                 adultmortality      168.215\n",
      "2                   infantdeaths       32.553\n",
      "3                        alcohol        4.533\n",
      "4          percentageexpenditure      698.974\n",
      "5                     hepatitisb       79.218\n",
      "6                        measles     2224.494\n",
      "7                            bmi       38.129\n",
      "8               under-fivedeaths       44.220\n",
      "9                          polio       83.565\n",
      "10              totalexpenditure        5.956\n",
      "11                    diphtheria       84.155\n",
      "12                      hiv/aids        1.984\n",
      "13                           gdp     5566.032\n",
      "14                    population 14653625.889\n",
      "15             thinness1-19years        4.851\n",
      "16              thinness5-9years        4.908\n",
      "17  incomecompositionofresources        0.632\n",
      "18                     schooling       12.120\n"
     ]
    }
   ],
   "source": [
    "mean_results = []\n",
    "for column_name, values in life_expectancy_numeric.items():\n",
    "    column_mean = values.mean()  # More efficient than sum() / count()\n",
    "    mean_results.append({\"Column\": column_name, \"Mean\": column_mean})\n",
    "\n",
    "# Convert to DataFrame\n",
    "mean_df = pd.DataFrame(mean_results)\n",
    "\n",
    "# Display DataFrame\n",
    "print(mean_df)\n"
   ]
  },
  {
   "cell_type": "markdown",
   "id": "ed0295b5",
   "metadata": {
    "papermill": {
     "duration": 0.007998,
     "end_time": "2025-03-01T11:45:14.191427",
     "exception": false,
     "start_time": "2025-03-01T11:45:14.183429",
     "status": "completed"
    },
    "tags": []
   },
   "source": [
    "# Median"
   ]
  },
  {
   "cell_type": "code",
   "execution_count": 25,
   "id": "dfb50b51",
   "metadata": {
    "execution": {
     "iopub.execute_input": "2025-03-01T11:45:14.210056Z",
     "iopub.status.busy": "2025-03-01T11:45:14.209133Z",
     "iopub.status.idle": "2025-03-01T11:45:14.215010Z",
     "shell.execute_reply": "2025-03-01T11:45:14.213929Z"
    },
    "papermill": {
     "duration": 0.017524,
     "end_time": "2025-03-01T11:45:14.217126",
     "exception": false,
     "start_time": "2025-03-01T11:45:14.199602",
     "status": "completed"
    },
    "tags": []
   },
   "outputs": [],
   "source": [
    "def calculate_median(column):\n",
    "    \n",
    "    sorted_values = column.dropna().sort_values().values #Sorting values\n",
    "    \n",
    "    n = len(sorted_values) # Finding total no.of values\n",
    "    \n",
    "    middlie_term = n // 2 # Getting middle term\n",
    "    \n",
    "    if n % 2: # If even\n",
    "        median = (sorted_values[middlie_term - 1] + sorted_values[middlie_term]) / 2\n",
    "    else: # If not even\n",
    "        median = sorted_values[middlie_term]\n",
    "        \n",
    "    return  median"
   ]
  },
  {
   "cell_type": "code",
   "execution_count": 26,
   "id": "140edacf",
   "metadata": {
    "execution": {
     "iopub.execute_input": "2025-03-01T11:45:14.236609Z",
     "iopub.status.busy": "2025-03-01T11:45:14.235838Z",
     "iopub.status.idle": "2025-03-01T11:45:14.254090Z",
     "shell.execute_reply": "2025-03-01T11:45:14.253019Z"
    },
    "papermill": {
     "duration": 0.030384,
     "end_time": "2025-03-01T11:45:14.256284",
     "exception": false,
     "start_time": "2025-03-01T11:45:14.225900",
     "status": "completed"
    },
    "tags": []
   },
   "outputs": [
    {
     "data": {
      "text/html": [
       "<div>\n",
       "<style scoped>\n",
       "    .dataframe tbody tr th:only-of-type {\n",
       "        vertical-align: middle;\n",
       "    }\n",
       "\n",
       "    .dataframe tbody tr th {\n",
       "        vertical-align: top;\n",
       "    }\n",
       "\n",
       "    .dataframe thead th {\n",
       "        text-align: right;\n",
       "    }\n",
       "</style>\n",
       "<table border=\"1\" class=\"dataframe\">\n",
       "  <thead>\n",
       "    <tr style=\"text-align: right;\">\n",
       "      <th></th>\n",
       "      <th>Column</th>\n",
       "      <th>Median</th>\n",
       "    </tr>\n",
       "  </thead>\n",
       "  <tbody>\n",
       "    <tr>\n",
       "      <th>0</th>\n",
       "      <td>lifeexpectancy</td>\n",
       "      <td>71.700</td>\n",
       "    </tr>\n",
       "    <tr>\n",
       "      <th>1</th>\n",
       "      <td>adultmortality</td>\n",
       "      <td>148.000</td>\n",
       "    </tr>\n",
       "    <tr>\n",
       "      <th>2</th>\n",
       "      <td>infantdeaths</td>\n",
       "      <td>3.000</td>\n",
       "    </tr>\n",
       "    <tr>\n",
       "      <th>3</th>\n",
       "      <td>alcohol</td>\n",
       "      <td>3.785</td>\n",
       "    </tr>\n",
       "    <tr>\n",
       "      <th>4</th>\n",
       "      <td>percentageexpenditure</td>\n",
       "      <td>145.044</td>\n",
       "    </tr>\n",
       "    <tr>\n",
       "      <th>5</th>\n",
       "      <td>hepatitisb</td>\n",
       "      <td>89.000</td>\n",
       "    </tr>\n",
       "    <tr>\n",
       "      <th>6</th>\n",
       "      <td>measles</td>\n",
       "      <td>14.500</td>\n",
       "    </tr>\n",
       "    <tr>\n",
       "      <th>7</th>\n",
       "      <td>bmi</td>\n",
       "      <td>43.650</td>\n",
       "    </tr>\n",
       "    <tr>\n",
       "      <th>8</th>\n",
       "      <td>under-fivedeaths</td>\n",
       "      <td>4.000</td>\n",
       "    </tr>\n",
       "    <tr>\n",
       "      <th>9</th>\n",
       "      <td>polio</td>\n",
       "      <td>93.000</td>\n",
       "    </tr>\n",
       "    <tr>\n",
       "      <th>10</th>\n",
       "      <td>totalexpenditure</td>\n",
       "      <td>5.840</td>\n",
       "    </tr>\n",
       "    <tr>\n",
       "      <th>11</th>\n",
       "      <td>diphtheria</td>\n",
       "      <td>92.000</td>\n",
       "    </tr>\n",
       "    <tr>\n",
       "      <th>12</th>\n",
       "      <td>hiv/aids</td>\n",
       "      <td>0.100</td>\n",
       "    </tr>\n",
       "    <tr>\n",
       "      <th>13</th>\n",
       "      <td>gdp</td>\n",
       "      <td>1591.200</td>\n",
       "    </tr>\n",
       "    <tr>\n",
       "      <th>14</th>\n",
       "      <td>population</td>\n",
       "      <td>1408189.500</td>\n",
       "    </tr>\n",
       "    <tr>\n",
       "      <th>15</th>\n",
       "      <td>thinness1-19years</td>\n",
       "      <td>3.000</td>\n",
       "    </tr>\n",
       "    <tr>\n",
       "      <th>16</th>\n",
       "      <td>thinness5-9years</td>\n",
       "      <td>3.200</td>\n",
       "    </tr>\n",
       "    <tr>\n",
       "      <th>17</th>\n",
       "      <td>incomecompositionofresources</td>\n",
       "      <td>0.673</td>\n",
       "    </tr>\n",
       "    <tr>\n",
       "      <th>18</th>\n",
       "      <td>schooling</td>\n",
       "      <td>12.300</td>\n",
       "    </tr>\n",
       "  </tbody>\n",
       "</table>\n",
       "</div>"
      ],
      "text/plain": [
       "                          Column      Median\n",
       "0                 lifeexpectancy      71.700\n",
       "1                 adultmortality     148.000\n",
       "2                   infantdeaths       3.000\n",
       "3                        alcohol       3.785\n",
       "4          percentageexpenditure     145.044\n",
       "5                     hepatitisb      89.000\n",
       "6                        measles      14.500\n",
       "7                            bmi      43.650\n",
       "8               under-fivedeaths       4.000\n",
       "9                          polio      93.000\n",
       "10              totalexpenditure       5.840\n",
       "11                    diphtheria      92.000\n",
       "12                      hiv/aids       0.100\n",
       "13                           gdp    1591.200\n",
       "14                    population 1408189.500\n",
       "15             thinness1-19years       3.000\n",
       "16              thinness5-9years       3.200\n",
       "17  incomecompositionofresources       0.673\n",
       "18                     schooling      12.300"
      ]
     },
     "execution_count": 26,
     "metadata": {},
     "output_type": "execute_result"
    }
   ],
   "source": [
    "median_results = []\n",
    "\n",
    "for column_name, column_values in life_expectancy_numeric.items():\n",
    "    median = calculate_median(column_values)\n",
    "    median_results.append({\"Column\": column_name, \"Median\": median})\n",
    "\n",
    "median_df = pd.DataFrame(median_results)\n",
    "\n",
    "median_df"
   ]
  },
  {
   "cell_type": "markdown",
   "id": "11b89cf8",
   "metadata": {
    "papermill": {
     "duration": 0.008125,
     "end_time": "2025-03-01T11:45:14.272996",
     "exception": false,
     "start_time": "2025-03-01T11:45:14.264871",
     "status": "completed"
    },
    "tags": []
   },
   "source": [
    "# Mode"
   ]
  },
  {
   "cell_type": "code",
   "execution_count": 27,
   "id": "66c1114d",
   "metadata": {
    "execution": {
     "iopub.execute_input": "2025-03-01T11:45:14.291644Z",
     "iopub.status.busy": "2025-03-01T11:45:14.290914Z",
     "iopub.status.idle": "2025-03-01T11:45:14.297309Z",
     "shell.execute_reply": "2025-03-01T11:45:14.296292Z"
    },
    "papermill": {
     "duration": 0.018121,
     "end_time": "2025-03-01T11:45:14.299476",
     "exception": false,
     "start_time": "2025-03-01T11:45:14.281355",
     "status": "completed"
    },
    "tags": []
   },
   "outputs": [],
   "source": [
    "def calculate_mode(column):\n",
    "    \n",
    "    values = column.dropna()  # Remove NaN values\n",
    "    \n",
    "    frequency = Counter(values)  # Counting frequencies of each value in a particular column\n",
    "    max_count = max(frequency.values())  # Finding the highest frequency\n",
    "    \n",
    "    # Finding all values with the highest frequency\n",
    "    modes = [str(key) for key, count in frequency.items() if count == max_count]\n",
    "    \n",
    "    return \", \".join(modes)  # Returning a comma-separated string\n"
   ]
  },
  {
   "cell_type": "code",
   "execution_count": 28,
   "id": "9d724c15",
   "metadata": {
    "execution": {
     "iopub.execute_input": "2025-03-01T11:45:14.318785Z",
     "iopub.status.busy": "2025-03-01T11:45:14.318065Z",
     "iopub.status.idle": "2025-03-01T11:45:14.340050Z",
     "shell.execute_reply": "2025-03-01T11:45:14.339028Z"
    },
    "papermill": {
     "duration": 0.034153,
     "end_time": "2025-03-01T11:45:14.342388",
     "exception": false,
     "start_time": "2025-03-01T11:45:14.308235",
     "status": "completed"
    },
    "tags": []
   },
   "outputs": [
    {
     "data": {
      "text/html": [
       "<div>\n",
       "<style scoped>\n",
       "    .dataframe tbody tr th:only-of-type {\n",
       "        vertical-align: middle;\n",
       "    }\n",
       "\n",
       "    .dataframe tbody tr th {\n",
       "        vertical-align: top;\n",
       "    }\n",
       "\n",
       "    .dataframe thead th {\n",
       "        text-align: right;\n",
       "    }\n",
       "</style>\n",
       "<table border=\"1\" class=\"dataframe\">\n",
       "  <thead>\n",
       "    <tr style=\"text-align: right;\">\n",
       "      <th></th>\n",
       "      <th>Column</th>\n",
       "      <th>Mode</th>\n",
       "    </tr>\n",
       "  </thead>\n",
       "  <tbody>\n",
       "    <tr>\n",
       "      <th>0</th>\n",
       "      <td>lifeexpectancy</td>\n",
       "      <td>73.0</td>\n",
       "    </tr>\n",
       "    <tr>\n",
       "      <th>1</th>\n",
       "      <td>adultmortality</td>\n",
       "      <td>14.0, 12.0</td>\n",
       "    </tr>\n",
       "    <tr>\n",
       "      <th>2</th>\n",
       "      <td>infantdeaths</td>\n",
       "      <td>0</td>\n",
       "    </tr>\n",
       "    <tr>\n",
       "      <th>3</th>\n",
       "      <td>alcohol</td>\n",
       "      <td>0.01</td>\n",
       "    </tr>\n",
       "    <tr>\n",
       "      <th>4</th>\n",
       "      <td>percentageexpenditure</td>\n",
       "      <td>0.0</td>\n",
       "    </tr>\n",
       "    <tr>\n",
       "      <th>5</th>\n",
       "      <td>hepatitisb</td>\n",
       "      <td>98.0</td>\n",
       "    </tr>\n",
       "    <tr>\n",
       "      <th>6</th>\n",
       "      <td>measles</td>\n",
       "      <td>0</td>\n",
       "    </tr>\n",
       "    <tr>\n",
       "      <th>7</th>\n",
       "      <td>bmi</td>\n",
       "      <td>57.2, 55.7, 58.5, 57.0</td>\n",
       "    </tr>\n",
       "    <tr>\n",
       "      <th>8</th>\n",
       "      <td>under-fivedeaths</td>\n",
       "      <td>0</td>\n",
       "    </tr>\n",
       "    <tr>\n",
       "      <th>9</th>\n",
       "      <td>polio</td>\n",
       "      <td>99.0</td>\n",
       "    </tr>\n",
       "    <tr>\n",
       "      <th>10</th>\n",
       "      <td>totalexpenditure</td>\n",
       "      <td>4.6</td>\n",
       "    </tr>\n",
       "    <tr>\n",
       "      <th>11</th>\n",
       "      <td>diphtheria</td>\n",
       "      <td>99.0</td>\n",
       "    </tr>\n",
       "    <tr>\n",
       "      <th>12</th>\n",
       "      <td>hiv/aids</td>\n",
       "      <td>0.1</td>\n",
       "    </tr>\n",
       "    <tr>\n",
       "      <th>13</th>\n",
       "      <td>gdp</td>\n",
       "      <td>584.25921, 612.696514, 631.744976, 669.959, 63...</td>\n",
       "    </tr>\n",
       "    <tr>\n",
       "      <th>14</th>\n",
       "      <td>population</td>\n",
       "      <td>1141.0, 718239.0</td>\n",
       "    </tr>\n",
       "    <tr>\n",
       "      <th>15</th>\n",
       "      <td>thinness1-19years</td>\n",
       "      <td>2.0</td>\n",
       "    </tr>\n",
       "    <tr>\n",
       "      <th>16</th>\n",
       "      <td>thinness5-9years</td>\n",
       "      <td>1.9, 2.1</td>\n",
       "    </tr>\n",
       "    <tr>\n",
       "      <th>17</th>\n",
       "      <td>incomecompositionofresources</td>\n",
       "      <td>0.0</td>\n",
       "    </tr>\n",
       "    <tr>\n",
       "      <th>18</th>\n",
       "      <td>schooling</td>\n",
       "      <td>12.9</td>\n",
       "    </tr>\n",
       "  </tbody>\n",
       "</table>\n",
       "</div>"
      ],
      "text/plain": [
       "                          Column  \\\n",
       "0                 lifeexpectancy   \n",
       "1                 adultmortality   \n",
       "2                   infantdeaths   \n",
       "3                        alcohol   \n",
       "4          percentageexpenditure   \n",
       "5                     hepatitisb   \n",
       "6                        measles   \n",
       "7                            bmi   \n",
       "8               under-fivedeaths   \n",
       "9                          polio   \n",
       "10              totalexpenditure   \n",
       "11                    diphtheria   \n",
       "12                      hiv/aids   \n",
       "13                           gdp   \n",
       "14                    population   \n",
       "15             thinness1-19years   \n",
       "16              thinness5-9years   \n",
       "17  incomecompositionofresources   \n",
       "18                     schooling   \n",
       "\n",
       "                                                 Mode  \n",
       "0                                                73.0  \n",
       "1                                          14.0, 12.0  \n",
       "2                                                   0  \n",
       "3                                                0.01  \n",
       "4                                                 0.0  \n",
       "5                                                98.0  \n",
       "6                                                   0  \n",
       "7                              57.2, 55.7, 58.5, 57.0  \n",
       "8                                                   0  \n",
       "9                                                99.0  \n",
       "10                                                4.6  \n",
       "11                                               99.0  \n",
       "12                                                0.1  \n",
       "13  584.25921, 612.696514, 631.744976, 669.959, 63...  \n",
       "14                                   1141.0, 718239.0  \n",
       "15                                                2.0  \n",
       "16                                           1.9, 2.1  \n",
       "17                                                0.0  \n",
       "18                                               12.9  "
      ]
     },
     "execution_count": 28,
     "metadata": {},
     "output_type": "execute_result"
    }
   ],
   "source": [
    "mode_results = []\n",
    "\n",
    "for column_name, column_values in life_expectancy_numeric.items():\n",
    "    mode = calculate_mode(column_values)\n",
    "    mode_results.append({\"Column\": column_name, \"Mode\": mode})\n",
    "\n",
    "mode_df = pd.DataFrame(mode_results)\n",
    "mode_df"
   ]
  }
 ],
 "metadata": {
  "kaggle": {
   "accelerator": "none",
   "dataSources": [
    {
     "datasetId": 12603,
     "sourceId": 17232,
     "sourceType": "datasetVersion"
    }
   ],
   "dockerImageVersionId": 30804,
   "isGpuEnabled": false,
   "isInternetEnabled": true,
   "language": "python",
   "sourceType": "notebook"
  },
  "kernelspec": {
   "display_name": "Python 3",
   "language": "python",
   "name": "python3"
  },
  "language_info": {
   "codemirror_mode": {
    "name": "ipython",
    "version": 3
   },
   "file_extension": ".py",
   "mimetype": "text/x-python",
   "name": "python",
   "nbconvert_exporter": "python",
   "pygments_lexer": "ipython3",
   "version": "3.10.14"
  },
  "papermill": {
   "default_parameters": {},
   "duration": 6.537042,
   "end_time": "2025-03-01T11:45:14.872500",
   "environment_variables": {},
   "exception": null,
   "input_path": "__notebook__.ipynb",
   "output_path": "__notebook__.ipynb",
   "parameters": {},
   "start_time": "2025-03-01T11:45:08.335458",
   "version": "2.6.0"
  }
 },
 "nbformat": 4,
 "nbformat_minor": 5
}
