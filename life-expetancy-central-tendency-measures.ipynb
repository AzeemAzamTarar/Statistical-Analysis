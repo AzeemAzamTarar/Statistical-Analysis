{
 "cells": [
  {
   "cell_type": "code",
   "execution_count": 1,
   "id": "85e9dc40",
   "metadata": {
    "_cell_guid": "b1076dfc-b9ad-4769-8c92-a6c4dae69d19",
    "_uuid": "8f2839f25d086af736a60e9eeb907d3b93b6e0e5",
    "execution": {
     "iopub.execute_input": "2025-03-01T11:11:06.481328Z",
     "iopub.status.busy": "2025-03-01T11:11:06.480925Z",
     "iopub.status.idle": "2025-03-01T11:11:07.359053Z",
     "shell.execute_reply": "2025-03-01T11:11:07.357958Z"
    },
    "papermill": {
     "duration": 0.887647,
     "end_time": "2025-03-01T11:11:07.361368",
     "exception": false,
     "start_time": "2025-03-01T11:11:06.473721",
     "status": "completed"
    },
    "tags": []
   },
   "outputs": [
    {
     "name": "stdout",
     "output_type": "stream",
     "text": [
      "/kaggle/input/life-expectancy-who/Life Expectancy Data.csv\n"
     ]
    }
   ],
   "source": [
    "# This Python 3 environment comes with many helpful analytics libraries installed\n",
    "# It is defined by the kaggle/python Docker image: https://github.com/kaggle/docker-python\n",
    "# For example, here's several helpful packages to load\n",
    "\n",
    "import numpy as np # linear algebra\n",
    "import pandas as pd # data processing, CSV file I/O (e.g. pd.read_csv)\n",
    "\n",
    "# Input data files are available in the read-only \"../input/\" directory\n",
    "# For example, running this (by clicking run or pressing Shift+Enter) will list all files under the input directory\n",
    "\n",
    "import os\n",
    "for dirname, _, filenames in os.walk('/kaggle/input'):\n",
    "    for filename in filenames:\n",
    "        print(os.path.join(dirname, filename))\n",
    "\n",
    "# You can write up to 20GB to the current directory (/kaggle/working/) that gets preserved as output when you create a version using \"Save & Run All\" \n",
    "# You can also write temporary files to /kaggle/temp/, but they won't be saved outside of the current session"
   ]
  },
  {
   "cell_type": "markdown",
   "id": "19827cee",
   "metadata": {
    "papermill": {
     "duration": 0.00458,
     "end_time": "2025-03-01T11:11:07.371347",
     "exception": false,
     "start_time": "2025-03-01T11:11:07.366767",
     "status": "completed"
    },
    "tags": []
   },
   "source": [
    "# Import Important Libararies"
   ]
  },
  {
   "cell_type": "code",
   "execution_count": 2,
   "id": "38120b50",
   "metadata": {
    "execution": {
     "iopub.execute_input": "2025-03-01T11:11:07.382976Z",
     "iopub.status.busy": "2025-03-01T11:11:07.382127Z",
     "iopub.status.idle": "2025-03-01T11:11:07.386724Z",
     "shell.execute_reply": "2025-03-01T11:11:07.385778Z"
    },
    "papermill": {
     "duration": 0.01278,
     "end_time": "2025-03-01T11:11:07.388811",
     "exception": false,
     "start_time": "2025-03-01T11:11:07.376031",
     "status": "completed"
    },
    "tags": []
   },
   "outputs": [],
   "source": [
    "import numpy as np \n",
    "import pandas as pd"
   ]
  },
  {
   "cell_type": "code",
   "execution_count": 3,
   "id": "389c042d",
   "metadata": {
    "execution": {
     "iopub.execute_input": "2025-03-01T11:11:07.402143Z",
     "iopub.status.busy": "2025-03-01T11:11:07.401283Z",
     "iopub.status.idle": "2025-03-01T11:11:07.435354Z",
     "shell.execute_reply": "2025-03-01T11:11:07.434280Z"
    },
    "papermill": {
     "duration": 0.042633,
     "end_time": "2025-03-01T11:11:07.437814",
     "exception": false,
     "start_time": "2025-03-01T11:11:07.395181",
     "status": "completed"
    },
    "tags": []
   },
   "outputs": [],
   "source": [
    "df = pd.read_csv(\"/kaggle/input/life-expectancy-who/Life Expectancy Data.csv\")"
   ]
  },
  {
   "cell_type": "code",
   "execution_count": 4,
   "id": "ddb9442a",
   "metadata": {
    "execution": {
     "iopub.execute_input": "2025-03-01T11:11:07.449933Z",
     "iopub.status.busy": "2025-03-01T11:11:07.449273Z",
     "iopub.status.idle": "2025-03-01T11:11:07.493249Z",
     "shell.execute_reply": "2025-03-01T11:11:07.492310Z"
    },
    "papermill": {
     "duration": 0.052559,
     "end_time": "2025-03-01T11:11:07.495596",
     "exception": false,
     "start_time": "2025-03-01T11:11:07.443037",
     "status": "completed"
    },
    "tags": []
   },
   "outputs": [
    {
     "data": {
      "text/html": [
       "<div>\n",
       "<style scoped>\n",
       "    .dataframe tbody tr th:only-of-type {\n",
       "        vertical-align: middle;\n",
       "    }\n",
       "\n",
       "    .dataframe tbody tr th {\n",
       "        vertical-align: top;\n",
       "    }\n",
       "\n",
       "    .dataframe thead th {\n",
       "        text-align: right;\n",
       "    }\n",
       "</style>\n",
       "<table border=\"1\" class=\"dataframe\">\n",
       "  <thead>\n",
       "    <tr style=\"text-align: right;\">\n",
       "      <th></th>\n",
       "      <th>Country</th>\n",
       "      <th>Year</th>\n",
       "      <th>Status</th>\n",
       "      <th>Life expectancy</th>\n",
       "      <th>Adult Mortality</th>\n",
       "      <th>infant deaths</th>\n",
       "      <th>Alcohol</th>\n",
       "      <th>percentage expenditure</th>\n",
       "      <th>Hepatitis B</th>\n",
       "      <th>Measles</th>\n",
       "      <th>...</th>\n",
       "      <th>Polio</th>\n",
       "      <th>Total expenditure</th>\n",
       "      <th>Diphtheria</th>\n",
       "      <th>HIV/AIDS</th>\n",
       "      <th>GDP</th>\n",
       "      <th>Population</th>\n",
       "      <th>thinness  1-19 years</th>\n",
       "      <th>thinness 5-9 years</th>\n",
       "      <th>Income composition of resources</th>\n",
       "      <th>Schooling</th>\n",
       "    </tr>\n",
       "  </thead>\n",
       "  <tbody>\n",
       "    <tr>\n",
       "      <th>0</th>\n",
       "      <td>Afghanistan</td>\n",
       "      <td>2015</td>\n",
       "      <td>Developing</td>\n",
       "      <td>65.0</td>\n",
       "      <td>263.0</td>\n",
       "      <td>62</td>\n",
       "      <td>0.01</td>\n",
       "      <td>71.279624</td>\n",
       "      <td>65.0</td>\n",
       "      <td>1154</td>\n",
       "      <td>...</td>\n",
       "      <td>6.0</td>\n",
       "      <td>8.16</td>\n",
       "      <td>65.0</td>\n",
       "      <td>0.1</td>\n",
       "      <td>584.259210</td>\n",
       "      <td>33736494.0</td>\n",
       "      <td>17.2</td>\n",
       "      <td>17.3</td>\n",
       "      <td>0.479</td>\n",
       "      <td>10.1</td>\n",
       "    </tr>\n",
       "    <tr>\n",
       "      <th>1</th>\n",
       "      <td>Afghanistan</td>\n",
       "      <td>2014</td>\n",
       "      <td>Developing</td>\n",
       "      <td>59.9</td>\n",
       "      <td>271.0</td>\n",
       "      <td>64</td>\n",
       "      <td>0.01</td>\n",
       "      <td>73.523582</td>\n",
       "      <td>62.0</td>\n",
       "      <td>492</td>\n",
       "      <td>...</td>\n",
       "      <td>58.0</td>\n",
       "      <td>8.18</td>\n",
       "      <td>62.0</td>\n",
       "      <td>0.1</td>\n",
       "      <td>612.696514</td>\n",
       "      <td>327582.0</td>\n",
       "      <td>17.5</td>\n",
       "      <td>17.5</td>\n",
       "      <td>0.476</td>\n",
       "      <td>10.0</td>\n",
       "    </tr>\n",
       "    <tr>\n",
       "      <th>2</th>\n",
       "      <td>Afghanistan</td>\n",
       "      <td>2013</td>\n",
       "      <td>Developing</td>\n",
       "      <td>59.9</td>\n",
       "      <td>268.0</td>\n",
       "      <td>66</td>\n",
       "      <td>0.01</td>\n",
       "      <td>73.219243</td>\n",
       "      <td>64.0</td>\n",
       "      <td>430</td>\n",
       "      <td>...</td>\n",
       "      <td>62.0</td>\n",
       "      <td>8.13</td>\n",
       "      <td>64.0</td>\n",
       "      <td>0.1</td>\n",
       "      <td>631.744976</td>\n",
       "      <td>31731688.0</td>\n",
       "      <td>17.7</td>\n",
       "      <td>17.7</td>\n",
       "      <td>0.470</td>\n",
       "      <td>9.9</td>\n",
       "    </tr>\n",
       "    <tr>\n",
       "      <th>3</th>\n",
       "      <td>Afghanistan</td>\n",
       "      <td>2012</td>\n",
       "      <td>Developing</td>\n",
       "      <td>59.5</td>\n",
       "      <td>272.0</td>\n",
       "      <td>69</td>\n",
       "      <td>0.01</td>\n",
       "      <td>78.184215</td>\n",
       "      <td>67.0</td>\n",
       "      <td>2787</td>\n",
       "      <td>...</td>\n",
       "      <td>67.0</td>\n",
       "      <td>8.52</td>\n",
       "      <td>67.0</td>\n",
       "      <td>0.1</td>\n",
       "      <td>669.959000</td>\n",
       "      <td>3696958.0</td>\n",
       "      <td>17.9</td>\n",
       "      <td>18.0</td>\n",
       "      <td>0.463</td>\n",
       "      <td>9.8</td>\n",
       "    </tr>\n",
       "    <tr>\n",
       "      <th>4</th>\n",
       "      <td>Afghanistan</td>\n",
       "      <td>2011</td>\n",
       "      <td>Developing</td>\n",
       "      <td>59.2</td>\n",
       "      <td>275.0</td>\n",
       "      <td>71</td>\n",
       "      <td>0.01</td>\n",
       "      <td>7.097109</td>\n",
       "      <td>68.0</td>\n",
       "      <td>3013</td>\n",
       "      <td>...</td>\n",
       "      <td>68.0</td>\n",
       "      <td>7.87</td>\n",
       "      <td>68.0</td>\n",
       "      <td>0.1</td>\n",
       "      <td>63.537231</td>\n",
       "      <td>2978599.0</td>\n",
       "      <td>18.2</td>\n",
       "      <td>18.2</td>\n",
       "      <td>0.454</td>\n",
       "      <td>9.5</td>\n",
       "    </tr>\n",
       "    <tr>\n",
       "      <th>5</th>\n",
       "      <td>Afghanistan</td>\n",
       "      <td>2010</td>\n",
       "      <td>Developing</td>\n",
       "      <td>58.8</td>\n",
       "      <td>279.0</td>\n",
       "      <td>74</td>\n",
       "      <td>0.01</td>\n",
       "      <td>79.679367</td>\n",
       "      <td>66.0</td>\n",
       "      <td>1989</td>\n",
       "      <td>...</td>\n",
       "      <td>66.0</td>\n",
       "      <td>9.20</td>\n",
       "      <td>66.0</td>\n",
       "      <td>0.1</td>\n",
       "      <td>553.328940</td>\n",
       "      <td>2883167.0</td>\n",
       "      <td>18.4</td>\n",
       "      <td>18.4</td>\n",
       "      <td>0.448</td>\n",
       "      <td>9.2</td>\n",
       "    </tr>\n",
       "    <tr>\n",
       "      <th>6</th>\n",
       "      <td>Afghanistan</td>\n",
       "      <td>2009</td>\n",
       "      <td>Developing</td>\n",
       "      <td>58.6</td>\n",
       "      <td>281.0</td>\n",
       "      <td>77</td>\n",
       "      <td>0.01</td>\n",
       "      <td>56.762217</td>\n",
       "      <td>63.0</td>\n",
       "      <td>2861</td>\n",
       "      <td>...</td>\n",
       "      <td>63.0</td>\n",
       "      <td>9.42</td>\n",
       "      <td>63.0</td>\n",
       "      <td>0.1</td>\n",
       "      <td>445.893298</td>\n",
       "      <td>284331.0</td>\n",
       "      <td>18.6</td>\n",
       "      <td>18.7</td>\n",
       "      <td>0.434</td>\n",
       "      <td>8.9</td>\n",
       "    </tr>\n",
       "    <tr>\n",
       "      <th>7</th>\n",
       "      <td>Afghanistan</td>\n",
       "      <td>2008</td>\n",
       "      <td>Developing</td>\n",
       "      <td>58.1</td>\n",
       "      <td>287.0</td>\n",
       "      <td>80</td>\n",
       "      <td>0.03</td>\n",
       "      <td>25.873925</td>\n",
       "      <td>64.0</td>\n",
       "      <td>1599</td>\n",
       "      <td>...</td>\n",
       "      <td>64.0</td>\n",
       "      <td>8.33</td>\n",
       "      <td>64.0</td>\n",
       "      <td>0.1</td>\n",
       "      <td>373.361116</td>\n",
       "      <td>2729431.0</td>\n",
       "      <td>18.8</td>\n",
       "      <td>18.9</td>\n",
       "      <td>0.433</td>\n",
       "      <td>8.7</td>\n",
       "    </tr>\n",
       "    <tr>\n",
       "      <th>8</th>\n",
       "      <td>Afghanistan</td>\n",
       "      <td>2007</td>\n",
       "      <td>Developing</td>\n",
       "      <td>57.5</td>\n",
       "      <td>295.0</td>\n",
       "      <td>82</td>\n",
       "      <td>0.02</td>\n",
       "      <td>10.910156</td>\n",
       "      <td>63.0</td>\n",
       "      <td>1141</td>\n",
       "      <td>...</td>\n",
       "      <td>63.0</td>\n",
       "      <td>6.73</td>\n",
       "      <td>63.0</td>\n",
       "      <td>0.1</td>\n",
       "      <td>369.835796</td>\n",
       "      <td>26616792.0</td>\n",
       "      <td>19.0</td>\n",
       "      <td>19.1</td>\n",
       "      <td>0.415</td>\n",
       "      <td>8.4</td>\n",
       "    </tr>\n",
       "    <tr>\n",
       "      <th>9</th>\n",
       "      <td>Afghanistan</td>\n",
       "      <td>2006</td>\n",
       "      <td>Developing</td>\n",
       "      <td>57.3</td>\n",
       "      <td>295.0</td>\n",
       "      <td>84</td>\n",
       "      <td>0.03</td>\n",
       "      <td>17.171518</td>\n",
       "      <td>64.0</td>\n",
       "      <td>1990</td>\n",
       "      <td>...</td>\n",
       "      <td>58.0</td>\n",
       "      <td>7.43</td>\n",
       "      <td>58.0</td>\n",
       "      <td>0.1</td>\n",
       "      <td>272.563770</td>\n",
       "      <td>2589345.0</td>\n",
       "      <td>19.2</td>\n",
       "      <td>19.3</td>\n",
       "      <td>0.405</td>\n",
       "      <td>8.1</td>\n",
       "    </tr>\n",
       "  </tbody>\n",
       "</table>\n",
       "<p>10 rows × 22 columns</p>\n",
       "</div>"
      ],
      "text/plain": [
       "       Country  Year      Status  Life expectancy   Adult Mortality  \\\n",
       "0  Afghanistan  2015  Developing              65.0            263.0   \n",
       "1  Afghanistan  2014  Developing              59.9            271.0   \n",
       "2  Afghanistan  2013  Developing              59.9            268.0   \n",
       "3  Afghanistan  2012  Developing              59.5            272.0   \n",
       "4  Afghanistan  2011  Developing              59.2            275.0   \n",
       "5  Afghanistan  2010  Developing              58.8            279.0   \n",
       "6  Afghanistan  2009  Developing              58.6            281.0   \n",
       "7  Afghanistan  2008  Developing              58.1            287.0   \n",
       "8  Afghanistan  2007  Developing              57.5            295.0   \n",
       "9  Afghanistan  2006  Developing              57.3            295.0   \n",
       "\n",
       "   infant deaths  Alcohol  percentage expenditure  Hepatitis B  Measles   ...  \\\n",
       "0             62     0.01               71.279624         65.0      1154  ...   \n",
       "1             64     0.01               73.523582         62.0       492  ...   \n",
       "2             66     0.01               73.219243         64.0       430  ...   \n",
       "3             69     0.01               78.184215         67.0      2787  ...   \n",
       "4             71     0.01                7.097109         68.0      3013  ...   \n",
       "5             74     0.01               79.679367         66.0      1989  ...   \n",
       "6             77     0.01               56.762217         63.0      2861  ...   \n",
       "7             80     0.03               25.873925         64.0      1599  ...   \n",
       "8             82     0.02               10.910156         63.0      1141  ...   \n",
       "9             84     0.03               17.171518         64.0      1990  ...   \n",
       "\n",
       "   Polio  Total expenditure  Diphtheria    HIV/AIDS         GDP  Population  \\\n",
       "0    6.0               8.16         65.0        0.1  584.259210  33736494.0   \n",
       "1   58.0               8.18         62.0        0.1  612.696514    327582.0   \n",
       "2   62.0               8.13         64.0        0.1  631.744976  31731688.0   \n",
       "3   67.0               8.52         67.0        0.1  669.959000   3696958.0   \n",
       "4   68.0               7.87         68.0        0.1   63.537231   2978599.0   \n",
       "5   66.0               9.20         66.0        0.1  553.328940   2883167.0   \n",
       "6   63.0               9.42         63.0        0.1  445.893298    284331.0   \n",
       "7   64.0               8.33         64.0        0.1  373.361116   2729431.0   \n",
       "8   63.0               6.73         63.0        0.1  369.835796  26616792.0   \n",
       "9   58.0               7.43         58.0        0.1  272.563770   2589345.0   \n",
       "\n",
       "    thinness  1-19 years   thinness 5-9 years  \\\n",
       "0                   17.2                 17.3   \n",
       "1                   17.5                 17.5   \n",
       "2                   17.7                 17.7   \n",
       "3                   17.9                 18.0   \n",
       "4                   18.2                 18.2   \n",
       "5                   18.4                 18.4   \n",
       "6                   18.6                 18.7   \n",
       "7                   18.8                 18.9   \n",
       "8                   19.0                 19.1   \n",
       "9                   19.2                 19.3   \n",
       "\n",
       "   Income composition of resources  Schooling  \n",
       "0                            0.479       10.1  \n",
       "1                            0.476       10.0  \n",
       "2                            0.470        9.9  \n",
       "3                            0.463        9.8  \n",
       "4                            0.454        9.5  \n",
       "5                            0.448        9.2  \n",
       "6                            0.434        8.9  \n",
       "7                            0.433        8.7  \n",
       "8                            0.415        8.4  \n",
       "9                            0.405        8.1  \n",
       "\n",
       "[10 rows x 22 columns]"
      ]
     },
     "execution_count": 4,
     "metadata": {},
     "output_type": "execute_result"
    }
   ],
   "source": [
    "df.head(10)"
   ]
  },
  {
   "cell_type": "code",
   "execution_count": 5,
   "id": "d01e5b90",
   "metadata": {
    "execution": {
     "iopub.execute_input": "2025-03-01T11:11:07.508069Z",
     "iopub.status.busy": "2025-03-01T11:11:07.507707Z",
     "iopub.status.idle": "2025-03-01T11:11:07.532203Z",
     "shell.execute_reply": "2025-03-01T11:11:07.531245Z"
    },
    "papermill": {
     "duration": 0.033264,
     "end_time": "2025-03-01T11:11:07.534381",
     "exception": false,
     "start_time": "2025-03-01T11:11:07.501117",
     "status": "completed"
    },
    "tags": []
   },
   "outputs": [
    {
     "data": {
      "text/html": [
       "<div>\n",
       "<style scoped>\n",
       "    .dataframe tbody tr th:only-of-type {\n",
       "        vertical-align: middle;\n",
       "    }\n",
       "\n",
       "    .dataframe tbody tr th {\n",
       "        vertical-align: top;\n",
       "    }\n",
       "\n",
       "    .dataframe thead th {\n",
       "        text-align: right;\n",
       "    }\n",
       "</style>\n",
       "<table border=\"1\" class=\"dataframe\">\n",
       "  <thead>\n",
       "    <tr style=\"text-align: right;\">\n",
       "      <th></th>\n",
       "      <th>Country</th>\n",
       "      <th>Year</th>\n",
       "      <th>Status</th>\n",
       "      <th>Life expectancy</th>\n",
       "      <th>Adult Mortality</th>\n",
       "      <th>infant deaths</th>\n",
       "      <th>Alcohol</th>\n",
       "      <th>percentage expenditure</th>\n",
       "      <th>Hepatitis B</th>\n",
       "      <th>Measles</th>\n",
       "      <th>...</th>\n",
       "      <th>Polio</th>\n",
       "      <th>Total expenditure</th>\n",
       "      <th>Diphtheria</th>\n",
       "      <th>HIV/AIDS</th>\n",
       "      <th>GDP</th>\n",
       "      <th>Population</th>\n",
       "      <th>thinness  1-19 years</th>\n",
       "      <th>thinness 5-9 years</th>\n",
       "      <th>Income composition of resources</th>\n",
       "      <th>Schooling</th>\n",
       "    </tr>\n",
       "  </thead>\n",
       "  <tbody>\n",
       "    <tr>\n",
       "      <th>2933</th>\n",
       "      <td>Zimbabwe</td>\n",
       "      <td>2004</td>\n",
       "      <td>Developing</td>\n",
       "      <td>44.3</td>\n",
       "      <td>723.0</td>\n",
       "      <td>27</td>\n",
       "      <td>4.36</td>\n",
       "      <td>0.0</td>\n",
       "      <td>68.0</td>\n",
       "      <td>31</td>\n",
       "      <td>...</td>\n",
       "      <td>67.0</td>\n",
       "      <td>7.13</td>\n",
       "      <td>65.0</td>\n",
       "      <td>33.6</td>\n",
       "      <td>454.366654</td>\n",
       "      <td>12777511.0</td>\n",
       "      <td>9.4</td>\n",
       "      <td>9.4</td>\n",
       "      <td>0.407</td>\n",
       "      <td>9.2</td>\n",
       "    </tr>\n",
       "    <tr>\n",
       "      <th>2934</th>\n",
       "      <td>Zimbabwe</td>\n",
       "      <td>2003</td>\n",
       "      <td>Developing</td>\n",
       "      <td>44.5</td>\n",
       "      <td>715.0</td>\n",
       "      <td>26</td>\n",
       "      <td>4.06</td>\n",
       "      <td>0.0</td>\n",
       "      <td>7.0</td>\n",
       "      <td>998</td>\n",
       "      <td>...</td>\n",
       "      <td>7.0</td>\n",
       "      <td>6.52</td>\n",
       "      <td>68.0</td>\n",
       "      <td>36.7</td>\n",
       "      <td>453.351155</td>\n",
       "      <td>12633897.0</td>\n",
       "      <td>9.8</td>\n",
       "      <td>9.9</td>\n",
       "      <td>0.418</td>\n",
       "      <td>9.5</td>\n",
       "    </tr>\n",
       "    <tr>\n",
       "      <th>2935</th>\n",
       "      <td>Zimbabwe</td>\n",
       "      <td>2002</td>\n",
       "      <td>Developing</td>\n",
       "      <td>44.8</td>\n",
       "      <td>73.0</td>\n",
       "      <td>25</td>\n",
       "      <td>4.43</td>\n",
       "      <td>0.0</td>\n",
       "      <td>73.0</td>\n",
       "      <td>304</td>\n",
       "      <td>...</td>\n",
       "      <td>73.0</td>\n",
       "      <td>6.53</td>\n",
       "      <td>71.0</td>\n",
       "      <td>39.8</td>\n",
       "      <td>57.348340</td>\n",
       "      <td>125525.0</td>\n",
       "      <td>1.2</td>\n",
       "      <td>1.3</td>\n",
       "      <td>0.427</td>\n",
       "      <td>10.0</td>\n",
       "    </tr>\n",
       "    <tr>\n",
       "      <th>2936</th>\n",
       "      <td>Zimbabwe</td>\n",
       "      <td>2001</td>\n",
       "      <td>Developing</td>\n",
       "      <td>45.3</td>\n",
       "      <td>686.0</td>\n",
       "      <td>25</td>\n",
       "      <td>1.72</td>\n",
       "      <td>0.0</td>\n",
       "      <td>76.0</td>\n",
       "      <td>529</td>\n",
       "      <td>...</td>\n",
       "      <td>76.0</td>\n",
       "      <td>6.16</td>\n",
       "      <td>75.0</td>\n",
       "      <td>42.1</td>\n",
       "      <td>548.587312</td>\n",
       "      <td>12366165.0</td>\n",
       "      <td>1.6</td>\n",
       "      <td>1.7</td>\n",
       "      <td>0.427</td>\n",
       "      <td>9.8</td>\n",
       "    </tr>\n",
       "    <tr>\n",
       "      <th>2937</th>\n",
       "      <td>Zimbabwe</td>\n",
       "      <td>2000</td>\n",
       "      <td>Developing</td>\n",
       "      <td>46.0</td>\n",
       "      <td>665.0</td>\n",
       "      <td>24</td>\n",
       "      <td>1.68</td>\n",
       "      <td>0.0</td>\n",
       "      <td>79.0</td>\n",
       "      <td>1483</td>\n",
       "      <td>...</td>\n",
       "      <td>78.0</td>\n",
       "      <td>7.10</td>\n",
       "      <td>78.0</td>\n",
       "      <td>43.5</td>\n",
       "      <td>547.358878</td>\n",
       "      <td>12222251.0</td>\n",
       "      <td>11.0</td>\n",
       "      <td>11.2</td>\n",
       "      <td>0.434</td>\n",
       "      <td>9.8</td>\n",
       "    </tr>\n",
       "  </tbody>\n",
       "</table>\n",
       "<p>5 rows × 22 columns</p>\n",
       "</div>"
      ],
      "text/plain": [
       "       Country  Year      Status  Life expectancy   Adult Mortality  \\\n",
       "2933  Zimbabwe  2004  Developing              44.3            723.0   \n",
       "2934  Zimbabwe  2003  Developing              44.5            715.0   \n",
       "2935  Zimbabwe  2002  Developing              44.8             73.0   \n",
       "2936  Zimbabwe  2001  Developing              45.3            686.0   \n",
       "2937  Zimbabwe  2000  Developing              46.0            665.0   \n",
       "\n",
       "      infant deaths  Alcohol  percentage expenditure  Hepatitis B  Measles   \\\n",
       "2933             27     4.36                     0.0         68.0        31   \n",
       "2934             26     4.06                     0.0          7.0       998   \n",
       "2935             25     4.43                     0.0         73.0       304   \n",
       "2936             25     1.72                     0.0         76.0       529   \n",
       "2937             24     1.68                     0.0         79.0      1483   \n",
       "\n",
       "      ...  Polio  Total expenditure  Diphtheria    HIV/AIDS         GDP  \\\n",
       "2933  ...   67.0               7.13         65.0       33.6  454.366654   \n",
       "2934  ...    7.0               6.52         68.0       36.7  453.351155   \n",
       "2935  ...   73.0               6.53         71.0       39.8   57.348340   \n",
       "2936  ...   76.0               6.16         75.0       42.1  548.587312   \n",
       "2937  ...   78.0               7.10         78.0       43.5  547.358878   \n",
       "\n",
       "      Population   thinness  1-19 years   thinness 5-9 years  \\\n",
       "2933  12777511.0                    9.4                  9.4   \n",
       "2934  12633897.0                    9.8                  9.9   \n",
       "2935    125525.0                    1.2                  1.3   \n",
       "2936  12366165.0                    1.6                  1.7   \n",
       "2937  12222251.0                   11.0                 11.2   \n",
       "\n",
       "      Income composition of resources  Schooling  \n",
       "2933                            0.407        9.2  \n",
       "2934                            0.418        9.5  \n",
       "2935                            0.427       10.0  \n",
       "2936                            0.427        9.8  \n",
       "2937                            0.434        9.8  \n",
       "\n",
       "[5 rows x 22 columns]"
      ]
     },
     "execution_count": 5,
     "metadata": {},
     "output_type": "execute_result"
    }
   ],
   "source": [
    "df.tail()"
   ]
  },
  {
   "cell_type": "code",
   "execution_count": 6,
   "id": "77f752ff",
   "metadata": {
    "execution": {
     "iopub.execute_input": "2025-03-01T11:11:07.547580Z",
     "iopub.status.busy": "2025-03-01T11:11:07.547171Z",
     "iopub.status.idle": "2025-03-01T11:11:07.553571Z",
     "shell.execute_reply": "2025-03-01T11:11:07.552576Z"
    },
    "papermill": {
     "duration": 0.015523,
     "end_time": "2025-03-01T11:11:07.555850",
     "exception": false,
     "start_time": "2025-03-01T11:11:07.540327",
     "status": "completed"
    },
    "tags": []
   },
   "outputs": [
    {
     "data": {
      "text/plain": [
       "(2938, 22)"
      ]
     },
     "execution_count": 6,
     "metadata": {},
     "output_type": "execute_result"
    }
   ],
   "source": [
    "df.shape"
   ]
  },
  {
   "cell_type": "code",
   "execution_count": 7,
   "id": "d16aa72b",
   "metadata": {
    "execution": {
     "iopub.execute_input": "2025-03-01T11:11:07.570015Z",
     "iopub.status.busy": "2025-03-01T11:11:07.568834Z",
     "iopub.status.idle": "2025-03-01T11:11:07.592610Z",
     "shell.execute_reply": "2025-03-01T11:11:07.591468Z"
    },
    "papermill": {
     "duration": 0.033212,
     "end_time": "2025-03-01T11:11:07.595075",
     "exception": false,
     "start_time": "2025-03-01T11:11:07.561863",
     "status": "completed"
    },
    "tags": []
   },
   "outputs": [
    {
     "name": "stdout",
     "output_type": "stream",
     "text": [
      "<class 'pandas.core.frame.DataFrame'>\n",
      "RangeIndex: 2938 entries, 0 to 2937\n",
      "Data columns (total 22 columns):\n",
      " #   Column                           Non-Null Count  Dtype  \n",
      "---  ------                           --------------  -----  \n",
      " 0   Country                          2938 non-null   object \n",
      " 1   Year                             2938 non-null   int64  \n",
      " 2   Status                           2938 non-null   object \n",
      " 3   Life expectancy                  2928 non-null   float64\n",
      " 4   Adult Mortality                  2928 non-null   float64\n",
      " 5   infant deaths                    2938 non-null   int64  \n",
      " 6   Alcohol                          2744 non-null   float64\n",
      " 7   percentage expenditure           2938 non-null   float64\n",
      " 8   Hepatitis B                      2385 non-null   float64\n",
      " 9   Measles                          2938 non-null   int64  \n",
      " 10   BMI                             2904 non-null   float64\n",
      " 11  under-five deaths                2938 non-null   int64  \n",
      " 12  Polio                            2919 non-null   float64\n",
      " 13  Total expenditure                2712 non-null   float64\n",
      " 14  Diphtheria                       2919 non-null   float64\n",
      " 15   HIV/AIDS                        2938 non-null   float64\n",
      " 16  GDP                              2490 non-null   float64\n",
      " 17  Population                       2286 non-null   float64\n",
      " 18   thinness  1-19 years            2904 non-null   float64\n",
      " 19   thinness 5-9 years              2904 non-null   float64\n",
      " 20  Income composition of resources  2771 non-null   float64\n",
      " 21  Schooling                        2775 non-null   float64\n",
      "dtypes: float64(16), int64(4), object(2)\n",
      "memory usage: 505.1+ KB\n"
     ]
    }
   ],
   "source": [
    "df.info()"
   ]
  },
  {
   "cell_type": "code",
   "execution_count": 8,
   "id": "682ea45d",
   "metadata": {
    "execution": {
     "iopub.execute_input": "2025-03-01T11:11:07.609088Z",
     "iopub.status.busy": "2025-03-01T11:11:07.608379Z",
     "iopub.status.idle": "2025-03-01T11:11:07.615192Z",
     "shell.execute_reply": "2025-03-01T11:11:07.614148Z"
    },
    "papermill": {
     "duration": 0.016466,
     "end_time": "2025-03-01T11:11:07.617653",
     "exception": false,
     "start_time": "2025-03-01T11:11:07.601187",
     "status": "completed"
    },
    "tags": []
   },
   "outputs": [
    {
     "data": {
      "text/plain": [
       "Index(['Country', 'Year', 'Status', 'Life expectancy ', 'Adult Mortality',\n",
       "       'infant deaths', 'Alcohol', 'percentage expenditure', 'Hepatitis B',\n",
       "       'Measles ', ' BMI ', 'under-five deaths ', 'Polio', 'Total expenditure',\n",
       "       'Diphtheria ', ' HIV/AIDS', 'GDP', 'Population',\n",
       "       ' thinness  1-19 years', ' thinness 5-9 years',\n",
       "       'Income composition of resources', 'Schooling'],\n",
       "      dtype='object')"
      ]
     },
     "execution_count": 8,
     "metadata": {},
     "output_type": "execute_result"
    }
   ],
   "source": [
    "df.columns"
   ]
  },
  {
   "cell_type": "code",
   "execution_count": 9,
   "id": "a07a215a",
   "metadata": {
    "execution": {
     "iopub.execute_input": "2025-03-01T11:11:07.632182Z",
     "iopub.status.busy": "2025-03-01T11:11:07.631354Z",
     "iopub.status.idle": "2025-03-01T11:11:07.639285Z",
     "shell.execute_reply": "2025-03-01T11:11:07.638295Z"
    },
    "papermill": {
     "duration": 0.016989,
     "end_time": "2025-03-01T11:11:07.641157",
     "exception": false,
     "start_time": "2025-03-01T11:11:07.624168",
     "status": "completed"
    },
    "tags": []
   },
   "outputs": [
    {
     "data": {
      "text/plain": [
       "Country                             object\n",
       "Year                                 int64\n",
       "Status                              object\n",
       "Life expectancy                    float64\n",
       "Adult Mortality                    float64\n",
       "infant deaths                        int64\n",
       "Alcohol                            float64\n",
       "percentage expenditure             float64\n",
       "Hepatitis B                        float64\n",
       "Measles                              int64\n",
       " BMI                               float64\n",
       "under-five deaths                    int64\n",
       "Polio                              float64\n",
       "Total expenditure                  float64\n",
       "Diphtheria                         float64\n",
       " HIV/AIDS                          float64\n",
       "GDP                                float64\n",
       "Population                         float64\n",
       " thinness  1-19 years              float64\n",
       " thinness 5-9 years                float64\n",
       "Income composition of resources    float64\n",
       "Schooling                          float64\n",
       "dtype: object"
      ]
     },
     "execution_count": 9,
     "metadata": {},
     "output_type": "execute_result"
    }
   ],
   "source": [
    "df.dtypes"
   ]
  },
  {
   "cell_type": "markdown",
   "id": "e5c27105",
   "metadata": {
    "papermill": {
     "duration": 0.005936,
     "end_time": "2025-03-01T11:11:07.653348",
     "exception": false,
     "start_time": "2025-03-01T11:11:07.647412",
     "status": "completed"
    },
    "tags": []
   },
   "source": [
    "# Remove Null values"
   ]
  },
  {
   "cell_type": "code",
   "execution_count": 10,
   "id": "515f0022",
   "metadata": {
    "execution": {
     "iopub.execute_input": "2025-03-01T11:11:07.667098Z",
     "iopub.status.busy": "2025-03-01T11:11:07.666727Z",
     "iopub.status.idle": "2025-03-01T11:11:07.676936Z",
     "shell.execute_reply": "2025-03-01T11:11:07.675960Z"
    },
    "papermill": {
     "duration": 0.019842,
     "end_time": "2025-03-01T11:11:07.679345",
     "exception": false,
     "start_time": "2025-03-01T11:11:07.659503",
     "status": "completed"
    },
    "tags": []
   },
   "outputs": [],
   "source": [
    "df = df.dropna()"
   ]
  },
  {
   "cell_type": "code",
   "execution_count": 11,
   "id": "e9628cbe",
   "metadata": {
    "execution": {
     "iopub.execute_input": "2025-03-01T11:11:07.693399Z",
     "iopub.status.busy": "2025-03-01T11:11:07.693008Z",
     "iopub.status.idle": "2025-03-01T11:11:07.699624Z",
     "shell.execute_reply": "2025-03-01T11:11:07.698611Z"
    },
    "papermill": {
     "duration": 0.016165,
     "end_time": "2025-03-01T11:11:07.701808",
     "exception": false,
     "start_time": "2025-03-01T11:11:07.685643",
     "status": "completed"
    },
    "tags": []
   },
   "outputs": [
    {
     "data": {
      "text/plain": [
       "(1649, 22)"
      ]
     },
     "execution_count": 11,
     "metadata": {},
     "output_type": "execute_result"
    }
   ],
   "source": [
    "df.shape"
   ]
  },
  {
   "cell_type": "markdown",
   "id": "093f8262",
   "metadata": {
    "papermill": {
     "duration": 0.00582,
     "end_time": "2025-03-01T11:11:07.714089",
     "exception": false,
     "start_time": "2025-03-01T11:11:07.708269",
     "status": "completed"
    },
    "tags": []
   },
   "source": [
    "## Removing Extra Spacing from Columns Starting and Ending"
   ]
  },
  {
   "cell_type": "code",
   "execution_count": 12,
   "id": "c4364418",
   "metadata": {
    "execution": {
     "iopub.execute_input": "2025-03-01T11:11:07.727912Z",
     "iopub.status.busy": "2025-03-01T11:11:07.727541Z",
     "iopub.status.idle": "2025-03-01T11:11:07.733012Z",
     "shell.execute_reply": "2025-03-01T11:11:07.731825Z"
    },
    "papermill": {
     "duration": 0.014986,
     "end_time": "2025-03-01T11:11:07.735132",
     "exception": false,
     "start_time": "2025-03-01T11:11:07.720146",
     "status": "completed"
    },
    "tags": []
   },
   "outputs": [],
   "source": [
    "# remove space in column values using columns.str.replace() function\n",
    "df.columns = df.columns.str.replace(' ', '')"
   ]
  },
  {
   "cell_type": "code",
   "execution_count": 13,
   "id": "1b128df1",
   "metadata": {
    "execution": {
     "iopub.execute_input": "2025-03-01T11:11:07.750280Z",
     "iopub.status.busy": "2025-03-01T11:11:07.749388Z",
     "iopub.status.idle": "2025-03-01T11:11:07.756167Z",
     "shell.execute_reply": "2025-03-01T11:11:07.755079Z"
    },
    "papermill": {
     "duration": 0.016807,
     "end_time": "2025-03-01T11:11:07.758468",
     "exception": false,
     "start_time": "2025-03-01T11:11:07.741661",
     "status": "completed"
    },
    "tags": []
   },
   "outputs": [
    {
     "data": {
      "text/plain": [
       "Index(['Country', 'Year', 'Status', 'Lifeexpectancy', 'AdultMortality',\n",
       "       'infantdeaths', 'Alcohol', 'percentageexpenditure', 'HepatitisB',\n",
       "       'Measles', 'BMI', 'under-fivedeaths', 'Polio', 'Totalexpenditure',\n",
       "       'Diphtheria', 'HIV/AIDS', 'GDP', 'Population', 'thinness1-19years',\n",
       "       'thinness5-9years', 'Incomecompositionofresources', 'Schooling'],\n",
       "      dtype='object')"
      ]
     },
     "execution_count": 13,
     "metadata": {},
     "output_type": "execute_result"
    }
   ],
   "source": [
    "df.columns"
   ]
  },
  {
   "cell_type": "code",
   "execution_count": 14,
   "id": "0365b4ab",
   "metadata": {
    "execution": {
     "iopub.execute_input": "2025-03-01T11:11:07.772860Z",
     "iopub.status.busy": "2025-03-01T11:11:07.772521Z",
     "iopub.status.idle": "2025-03-01T11:11:07.777754Z",
     "shell.execute_reply": "2025-03-01T11:11:07.776719Z"
    },
    "papermill": {
     "duration": 0.014822,
     "end_time": "2025-03-01T11:11:07.779808",
     "exception": false,
     "start_time": "2025-03-01T11:11:07.764986",
     "status": "completed"
    },
    "tags": []
   },
   "outputs": [],
   "source": [
    "df.columns = df.columns.str.lower()"
   ]
  },
  {
   "cell_type": "code",
   "execution_count": 15,
   "id": "b2298006",
   "metadata": {
    "execution": {
     "iopub.execute_input": "2025-03-01T11:11:07.794352Z",
     "iopub.status.busy": "2025-03-01T11:11:07.793993Z",
     "iopub.status.idle": "2025-03-01T11:11:07.800647Z",
     "shell.execute_reply": "2025-03-01T11:11:07.799633Z"
    },
    "papermill": {
     "duration": 0.016258,
     "end_time": "2025-03-01T11:11:07.802618",
     "exception": false,
     "start_time": "2025-03-01T11:11:07.786360",
     "status": "completed"
    },
    "tags": []
   },
   "outputs": [
    {
     "data": {
      "text/plain": [
       "Index(['country', 'year', 'status', 'lifeexpectancy', 'adultmortality',\n",
       "       'infantdeaths', 'alcohol', 'percentageexpenditure', 'hepatitisb',\n",
       "       'measles', 'bmi', 'under-fivedeaths', 'polio', 'totalexpenditure',\n",
       "       'diphtheria', 'hiv/aids', 'gdp', 'population', 'thinness1-19years',\n",
       "       'thinness5-9years', 'incomecompositionofresources', 'schooling'],\n",
       "      dtype='object')"
      ]
     },
     "execution_count": 15,
     "metadata": {},
     "output_type": "execute_result"
    }
   ],
   "source": [
    "df.columns"
   ]
  },
  {
   "cell_type": "code",
   "execution_count": 16,
   "id": "337d93b9",
   "metadata": {
    "execution": {
     "iopub.execute_input": "2025-03-01T11:11:07.817219Z",
     "iopub.status.busy": "2025-03-01T11:11:07.816817Z",
     "iopub.status.idle": "2025-03-01T11:11:07.825055Z",
     "shell.execute_reply": "2025-03-01T11:11:07.824047Z"
    },
    "papermill": {
     "duration": 0.017741,
     "end_time": "2025-03-01T11:11:07.827013",
     "exception": false,
     "start_time": "2025-03-01T11:11:07.809272",
     "status": "completed"
    },
    "tags": []
   },
   "outputs": [
    {
     "data": {
      "text/plain": [
       "country                          object\n",
       "year                              int64\n",
       "status                           object\n",
       "lifeexpectancy                  float64\n",
       "adultmortality                  float64\n",
       "infantdeaths                      int64\n",
       "alcohol                         float64\n",
       "percentageexpenditure           float64\n",
       "hepatitisb                      float64\n",
       "measles                           int64\n",
       "bmi                             float64\n",
       "under-fivedeaths                  int64\n",
       "polio                           float64\n",
       "totalexpenditure                float64\n",
       "diphtheria                      float64\n",
       "hiv/aids                        float64\n",
       "gdp                             float64\n",
       "population                      float64\n",
       "thinness1-19years               float64\n",
       "thinness5-9years                float64\n",
       "incomecompositionofresources    float64\n",
       "schooling                       float64\n",
       "dtype: object"
      ]
     },
     "execution_count": 16,
     "metadata": {},
     "output_type": "execute_result"
    }
   ],
   "source": [
    "df.dtypes"
   ]
  },
  {
   "cell_type": "code",
   "execution_count": 17,
   "id": "0c9e02fe",
   "metadata": {
    "execution": {
     "iopub.execute_input": "2025-03-01T11:11:07.842391Z",
     "iopub.status.busy": "2025-03-01T11:11:07.841939Z",
     "iopub.status.idle": "2025-03-01T11:11:07.848452Z",
     "shell.execute_reply": "2025-03-01T11:11:07.847387Z"
    },
    "papermill": {
     "duration": 0.016738,
     "end_time": "2025-03-01T11:11:07.850631",
     "exception": false,
     "start_time": "2025-03-01T11:11:07.833893",
     "status": "completed"
    },
    "tags": []
   },
   "outputs": [],
   "source": [
    "df.year = df.year.astype(str)"
   ]
  },
  {
   "cell_type": "code",
   "execution_count": 18,
   "id": "d65ab7f9",
   "metadata": {
    "execution": {
     "iopub.execute_input": "2025-03-01T11:11:07.865756Z",
     "iopub.status.busy": "2025-03-01T11:11:07.864674Z",
     "iopub.status.idle": "2025-03-01T11:11:07.872823Z",
     "shell.execute_reply": "2025-03-01T11:11:07.871848Z"
    },
    "papermill": {
     "duration": 0.01766,
     "end_time": "2025-03-01T11:11:07.874766",
     "exception": false,
     "start_time": "2025-03-01T11:11:07.857106",
     "status": "completed"
    },
    "tags": []
   },
   "outputs": [
    {
     "data": {
      "text/plain": [
       "country                          object\n",
       "year                             object\n",
       "status                           object\n",
       "lifeexpectancy                  float64\n",
       "adultmortality                  float64\n",
       "infantdeaths                      int64\n",
       "alcohol                         float64\n",
       "percentageexpenditure           float64\n",
       "hepatitisb                      float64\n",
       "measles                           int64\n",
       "bmi                             float64\n",
       "under-fivedeaths                  int64\n",
       "polio                           float64\n",
       "totalexpenditure                float64\n",
       "diphtheria                      float64\n",
       "hiv/aids                        float64\n",
       "gdp                             float64\n",
       "population                      float64\n",
       "thinness1-19years               float64\n",
       "thinness5-9years                float64\n",
       "incomecompositionofresources    float64\n",
       "schooling                       float64\n",
       "dtype: object"
      ]
     },
     "execution_count": 18,
     "metadata": {},
     "output_type": "execute_result"
    }
   ],
   "source": [
    "df.dtypes"
   ]
  },
  {
   "cell_type": "code",
   "execution_count": 19,
   "id": "63151b5f",
   "metadata": {
    "execution": {
     "iopub.execute_input": "2025-03-01T11:11:07.890070Z",
     "iopub.status.busy": "2025-03-01T11:11:07.889118Z",
     "iopub.status.idle": "2025-03-01T11:11:07.894773Z",
     "shell.execute_reply": "2025-03-01T11:11:07.893909Z"
    },
    "papermill": {
     "duration": 0.015305,
     "end_time": "2025-03-01T11:11:07.896720",
     "exception": false,
     "start_time": "2025-03-01T11:11:07.881415",
     "status": "completed"
    },
    "tags": []
   },
   "outputs": [],
   "source": [
    "numerical_types = ['int16', 'int32', 'int64', 'float16', 'float32', 'float64']\n",
    "\n",
    "life_expectancy_numeric = df.select_dtypes(include=numerical_types)"
   ]
  },
  {
   "cell_type": "code",
   "execution_count": 20,
   "id": "a3c3162c",
   "metadata": {
    "execution": {
     "iopub.execute_input": "2025-03-01T11:11:07.911885Z",
     "iopub.status.busy": "2025-03-01T11:11:07.911522Z",
     "iopub.status.idle": "2025-03-01T11:11:07.918260Z",
     "shell.execute_reply": "2025-03-01T11:11:07.917198Z"
    },
    "papermill": {
     "duration": 0.016753,
     "end_time": "2025-03-01T11:11:07.920417",
     "exception": false,
     "start_time": "2025-03-01T11:11:07.903664",
     "status": "completed"
    },
    "tags": []
   },
   "outputs": [
    {
     "data": {
      "text/plain": [
       "Index(['lifeexpectancy', 'adultmortality', 'infantdeaths', 'alcohol',\n",
       "       'percentageexpenditure', 'hepatitisb', 'measles', 'bmi',\n",
       "       'under-fivedeaths', 'polio', 'totalexpenditure', 'diphtheria',\n",
       "       'hiv/aids', 'gdp', 'population', 'thinness1-19years',\n",
       "       'thinness5-9years', 'incomecompositionofresources', 'schooling'],\n",
       "      dtype='object')"
      ]
     },
     "execution_count": 20,
     "metadata": {},
     "output_type": "execute_result"
    }
   ],
   "source": [
    "life_expectancy_numeric.columns"
   ]
  },
  {
   "cell_type": "markdown",
   "id": "6b0702f7",
   "metadata": {
    "papermill": {
     "duration": 0.006535,
     "end_time": "2025-03-01T11:11:07.933801",
     "exception": false,
     "start_time": "2025-03-01T11:11:07.927266",
     "status": "completed"
    },
    "tags": []
   },
   "source": [
    "# Mean"
   ]
  },
  {
   "cell_type": "code",
   "execution_count": 21,
   "id": "1a2fb2a1",
   "metadata": {
    "execution": {
     "iopub.execute_input": "2025-03-01T11:11:07.948826Z",
     "iopub.status.busy": "2025-03-01T11:11:07.948469Z",
     "iopub.status.idle": "2025-03-01T11:11:07.965572Z",
     "shell.execute_reply": "2025-03-01T11:11:07.964324Z"
    },
    "papermill": {
     "duration": 0.027549,
     "end_time": "2025-03-01T11:11:07.967962",
     "exception": false,
     "start_time": "2025-03-01T11:11:07.940413",
     "status": "completed"
    },
    "tags": []
   },
   "outputs": [
    {
     "data": {
      "text/html": [
       "<div>\n",
       "<style scoped>\n",
       "    .dataframe tbody tr th:only-of-type {\n",
       "        vertical-align: middle;\n",
       "    }\n",
       "\n",
       "    .dataframe tbody tr th {\n",
       "        vertical-align: top;\n",
       "    }\n",
       "\n",
       "    .dataframe thead th {\n",
       "        text-align: right;\n",
       "    }\n",
       "</style>\n",
       "<table border=\"1\" class=\"dataframe\">\n",
       "  <thead>\n",
       "    <tr style=\"text-align: right;\">\n",
       "      <th></th>\n",
       "      <th>Column</th>\n",
       "      <th>Mean</th>\n",
       "    </tr>\n",
       "  </thead>\n",
       "  <tbody>\n",
       "    <tr>\n",
       "      <th>0</th>\n",
       "      <td>lifeexpectancy</td>\n",
       "      <td>6.930230e+01</td>\n",
       "    </tr>\n",
       "    <tr>\n",
       "      <th>1</th>\n",
       "      <td>adultmortality</td>\n",
       "      <td>1.682153e+02</td>\n",
       "    </tr>\n",
       "    <tr>\n",
       "      <th>2</th>\n",
       "      <td>infantdeaths</td>\n",
       "      <td>3.255306e+01</td>\n",
       "    </tr>\n",
       "    <tr>\n",
       "      <th>3</th>\n",
       "      <td>alcohol</td>\n",
       "      <td>4.533196e+00</td>\n",
       "    </tr>\n",
       "    <tr>\n",
       "      <th>4</th>\n",
       "      <td>percentageexpenditure</td>\n",
       "      <td>6.989736e+02</td>\n",
       "    </tr>\n",
       "    <tr>\n",
       "      <th>5</th>\n",
       "      <td>hepatitisb</td>\n",
       "      <td>7.921771e+01</td>\n",
       "    </tr>\n",
       "    <tr>\n",
       "      <th>6</th>\n",
       "      <td>measles</td>\n",
       "      <td>2.224494e+03</td>\n",
       "    </tr>\n",
       "    <tr>\n",
       "      <th>7</th>\n",
       "      <td>bmi</td>\n",
       "      <td>3.812862e+01</td>\n",
       "    </tr>\n",
       "    <tr>\n",
       "      <th>8</th>\n",
       "      <td>under-fivedeaths</td>\n",
       "      <td>4.422013e+01</td>\n",
       "    </tr>\n",
       "    <tr>\n",
       "      <th>9</th>\n",
       "      <td>polio</td>\n",
       "      <td>8.356458e+01</td>\n",
       "    </tr>\n",
       "    <tr>\n",
       "      <th>10</th>\n",
       "      <td>totalexpenditure</td>\n",
       "      <td>5.955925e+00</td>\n",
       "    </tr>\n",
       "    <tr>\n",
       "      <th>11</th>\n",
       "      <td>diphtheria</td>\n",
       "      <td>8.415525e+01</td>\n",
       "    </tr>\n",
       "    <tr>\n",
       "      <th>12</th>\n",
       "      <td>hiv/aids</td>\n",
       "      <td>1.983869e+00</td>\n",
       "    </tr>\n",
       "    <tr>\n",
       "      <th>13</th>\n",
       "      <td>gdp</td>\n",
       "      <td>5.566032e+03</td>\n",
       "    </tr>\n",
       "    <tr>\n",
       "      <th>14</th>\n",
       "      <td>population</td>\n",
       "      <td>1.465363e+07</td>\n",
       "    </tr>\n",
       "    <tr>\n",
       "      <th>15</th>\n",
       "      <td>thinness1-19years</td>\n",
       "      <td>4.850637e+00</td>\n",
       "    </tr>\n",
       "    <tr>\n",
       "      <th>16</th>\n",
       "      <td>thinness5-9years</td>\n",
       "      <td>4.907762e+00</td>\n",
       "    </tr>\n",
       "    <tr>\n",
       "      <th>17</th>\n",
       "      <td>incomecompositionofresources</td>\n",
       "      <td>6.315512e-01</td>\n",
       "    </tr>\n",
       "    <tr>\n",
       "      <th>18</th>\n",
       "      <td>schooling</td>\n",
       "      <td>1.211989e+01</td>\n",
       "    </tr>\n",
       "  </tbody>\n",
       "</table>\n",
       "</div>"
      ],
      "text/plain": [
       "                          Column          Mean\n",
       "0                 lifeexpectancy  6.930230e+01\n",
       "1                 adultmortality  1.682153e+02\n",
       "2                   infantdeaths  3.255306e+01\n",
       "3                        alcohol  4.533196e+00\n",
       "4          percentageexpenditure  6.989736e+02\n",
       "5                     hepatitisb  7.921771e+01\n",
       "6                        measles  2.224494e+03\n",
       "7                            bmi  3.812862e+01\n",
       "8               under-fivedeaths  4.422013e+01\n",
       "9                          polio  8.356458e+01\n",
       "10              totalexpenditure  5.955925e+00\n",
       "11                    diphtheria  8.415525e+01\n",
       "12                      hiv/aids  1.983869e+00\n",
       "13                           gdp  5.566032e+03\n",
       "14                    population  1.465363e+07\n",
       "15             thinness1-19years  4.850637e+00\n",
       "16              thinness5-9years  4.907762e+00\n",
       "17  incomecompositionofresources  6.315512e-01\n",
       "18                     schooling  1.211989e+01"
      ]
     },
     "execution_count": 21,
     "metadata": {},
     "output_type": "execute_result"
    }
   ],
   "source": [
    "mean_results = [] \n",
    "\n",
    "for column_name, column_values in life_expectancy_numeric.items():\n",
    "    values = life_expectancy_numeric[column_name]\n",
    "    column_mean = values.sum() / values.count()\n",
    "    mean_results.append({\"Column\": column_name, \"Mean\": column_mean})\n",
    "\n",
    "mean_df = pd.DataFrame(mean_results)\n",
    "mean_df"
   ]
  }
 ],
 "metadata": {
  "kaggle": {
   "accelerator": "none",
   "dataSources": [
    {
     "datasetId": 12603,
     "sourceId": 17232,
     "sourceType": "datasetVersion"
    }
   ],
   "dockerImageVersionId": 30804,
   "isGpuEnabled": false,
   "isInternetEnabled": true,
   "language": "python",
   "sourceType": "notebook"
  },
  "kernelspec": {
   "display_name": "Python 3",
   "language": "python",
   "name": "python3"
  },
  "language_info": {
   "codemirror_mode": {
    "name": "ipython",
    "version": 3
   },
   "file_extension": ".py",
   "mimetype": "text/x-python",
   "name": "python",
   "nbconvert_exporter": "python",
   "pygments_lexer": "ipython3",
   "version": "3.10.14"
  },
  "papermill": {
   "default_parameters": {},
   "duration": 5.163205,
   "end_time": "2025-03-01T11:11:08.496856",
   "environment_variables": {},
   "exception": null,
   "input_path": "__notebook__.ipynb",
   "output_path": "__notebook__.ipynb",
   "parameters": {},
   "start_time": "2025-03-01T11:11:03.333651",
   "version": "2.6.0"
  }
 },
 "nbformat": 4,
 "nbformat_minor": 5
}
